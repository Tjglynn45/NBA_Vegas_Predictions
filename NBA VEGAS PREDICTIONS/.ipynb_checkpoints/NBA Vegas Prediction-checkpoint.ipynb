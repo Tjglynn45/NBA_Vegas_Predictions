{
 "cells": [
  {
   "cell_type": "code",
   "execution_count": 1,
   "metadata": {},
   "outputs": [],
   "source": [
    "import pandas as pd\n",
    "import numpy as np\n",
    "from datetime import datetime\n",
    "import matplotlib.pyplot as plt\n",
    "from sklearn.model_selection import train_test_split, KFold, GridSearchCV,\\\n",
    "cross_val_score, RandomizedSearchCV,cross_validate\n",
    "from sklearn.linear_model import LinearRegression, LogisticRegression\n",
    "from sklearn.dummy import DummyClassifier\n",
    "from sklearn.metrics import f1_score, confusion_matrix, recall_score, precision_score, accuracy_score\n",
    "from sklearn.metrics import plot_confusion_matrix\n",
    "from sklearn.preprocessing import StandardScaler\n",
    "from sklearn.ensemble import RandomForestClassifier\n",
    "from sklearn.tree import DecisionTreeClassifier\n",
    "from sklearn.model_selection import GridSearchCV\n",
    "from sklearn.feature_selection import RFE, RFECV\n",
    "from sklearn.pipeline import Pipeline\n",
    "from sklearn.svm import SVC\n",
    "from sklearn.ensemble import VotingClassifier\n",
    "import sklearn \n",
    "from sklearn.neighbors import KNeighborsClassifier, NearestNeighbors\n",
    "from matplotlib import pyplot\n",
    "from xgboost import plot_importance\n",
    "from sklearn import metrics\n",
    "from fast_ml.model_development import train_valid_test_split\n",
    "\n",
    "#for the Neural Network\n",
    "from tensorflow.keras.models import Sequential\n",
    "from tensorflow.keras.layers import Dense, Dropout\n",
    "from tensorflow.keras.regularizers import l2\n",
    "from tensorflow.keras.optimizers import SGD\n",
    "from tensorflow.keras.wrappers import scikit_learn\n",
    "from tensorflow.keras.callbacks import EarlyStopping\n",
    "from keras.constraints import maxnorm\n"
   ]
  },
  {
   "cell_type": "code",
   "execution_count": 2,
   "metadata": {},
   "outputs": [],
   "source": [
    "Vegas_Odds = pd.read_excel('nba odds 2020-21 Update.xlsx')\n",
    "Game_Log = pd.read_csv('games.csv')\n",
    "Teams = pd.read_csv('teams.csv')"
   ]
  },
  {
   "cell_type": "markdown",
   "metadata": {},
   "source": [
    "# Cleaning the Data"
   ]
  },
  {
   "cell_type": "code",
   "execution_count": 3,
   "metadata": {},
   "outputs": [
    {
     "data": {
      "text/html": [
       "<div>\n",
       "<style scoped>\n",
       "    .dataframe tbody tr th:only-of-type {\n",
       "        vertical-align: middle;\n",
       "    }\n",
       "\n",
       "    .dataframe tbody tr th {\n",
       "        vertical-align: top;\n",
       "    }\n",
       "\n",
       "    .dataframe thead th {\n",
       "        text-align: right;\n",
       "    }\n",
       "</style>\n",
       "<table border=\"1\" class=\"dataframe\">\n",
       "  <thead>\n",
       "    <tr style=\"text-align: right;\">\n",
       "      <th></th>\n",
       "      <th>Date</th>\n",
       "      <th>VH</th>\n",
       "      <th>Team</th>\n",
       "      <th>Final</th>\n",
       "      <th>Open</th>\n",
       "      <th>Close</th>\n",
       "    </tr>\n",
       "  </thead>\n",
       "  <tbody>\n",
       "    <tr>\n",
       "      <th>0</th>\n",
       "      <td>2020-12-22</td>\n",
       "      <td>V</td>\n",
       "      <td>GoldenState</td>\n",
       "      <td>99</td>\n",
       "      <td>228</td>\n",
       "      <td>234.5</td>\n",
       "    </tr>\n",
       "    <tr>\n",
       "      <th>1</th>\n",
       "      <td>2020-12-22</td>\n",
       "      <td>H</td>\n",
       "      <td>Brooklyn</td>\n",
       "      <td>125</td>\n",
       "      <td>5.5</td>\n",
       "      <td>7.5</td>\n",
       "    </tr>\n",
       "    <tr>\n",
       "      <th>2</th>\n",
       "      <td>2020-12-22</td>\n",
       "      <td>V</td>\n",
       "      <td>LAClippers</td>\n",
       "      <td>116</td>\n",
       "      <td>223</td>\n",
       "      <td>219</td>\n",
       "    </tr>\n",
       "    <tr>\n",
       "      <th>3</th>\n",
       "      <td>2020-12-22</td>\n",
       "      <td>H</td>\n",
       "      <td>LALakers</td>\n",
       "      <td>109</td>\n",
       "      <td>2.5</td>\n",
       "      <td>2</td>\n",
       "    </tr>\n",
       "    <tr>\n",
       "      <th>4</th>\n",
       "      <td>2020-12-23</td>\n",
       "      <td>V</td>\n",
       "      <td>Charlotte</td>\n",
       "      <td>114</td>\n",
       "      <td>215</td>\n",
       "      <td>3</td>\n",
       "    </tr>\n",
       "    <tr>\n",
       "      <th>...</th>\n",
       "      <td>...</td>\n",
       "      <td>...</td>\n",
       "      <td>...</td>\n",
       "      <td>...</td>\n",
       "      <td>...</td>\n",
       "      <td>...</td>\n",
       "    </tr>\n",
       "    <tr>\n",
       "      <th>2155</th>\n",
       "      <td>2021-05-16</td>\n",
       "      <td>H</td>\n",
       "      <td>Washington</td>\n",
       "      <td>115</td>\n",
       "      <td>6.5</td>\n",
       "      <td>7</td>\n",
       "    </tr>\n",
       "    <tr>\n",
       "      <th>2156</th>\n",
       "      <td>2021-05-16</td>\n",
       "      <td>V</td>\n",
       "      <td>Boston</td>\n",
       "      <td>92</td>\n",
       "      <td>215.5</td>\n",
       "      <td>211</td>\n",
       "    </tr>\n",
       "    <tr>\n",
       "      <th>2157</th>\n",
       "      <td>2021-05-16</td>\n",
       "      <td>H</td>\n",
       "      <td>NewYork</td>\n",
       "      <td>96</td>\n",
       "      <td>8.5</td>\n",
       "      <td>12</td>\n",
       "    </tr>\n",
       "    <tr>\n",
       "      <th>2158</th>\n",
       "      <td>2021-05-16</td>\n",
       "      <td>V</td>\n",
       "      <td>Indiana</td>\n",
       "      <td>125</td>\n",
       "      <td>7</td>\n",
       "      <td>6</td>\n",
       "    </tr>\n",
       "    <tr>\n",
       "      <th>2159</th>\n",
       "      <td>2021-05-16</td>\n",
       "      <td>H</td>\n",
       "      <td>Toronto</td>\n",
       "      <td>113</td>\n",
       "      <td>229.5</td>\n",
       "      <td>226.5</td>\n",
       "    </tr>\n",
       "  </tbody>\n",
       "</table>\n",
       "<p>2160 rows × 6 columns</p>\n",
       "</div>"
      ],
      "text/plain": [
       "           Date VH         Team  Final   Open  Close\n",
       "0    2020-12-22  V  GoldenState     99    228  234.5\n",
       "1    2020-12-22  H     Brooklyn    125    5.5    7.5\n",
       "2    2020-12-22  V   LAClippers    116    223    219\n",
       "3    2020-12-22  H     LALakers    109    2.5      2\n",
       "4    2020-12-23  V    Charlotte    114    215      3\n",
       "...         ... ..          ...    ...    ...    ...\n",
       "2155 2021-05-16  H   Washington    115    6.5      7\n",
       "2156 2021-05-16  V       Boston     92  215.5    211\n",
       "2157 2021-05-16  H      NewYork     96    8.5     12\n",
       "2158 2021-05-16  V      Indiana    125      7      6\n",
       "2159 2021-05-16  H      Toronto    113  229.5  226.5\n",
       "\n",
       "[2160 rows x 6 columns]"
      ]
     },
     "execution_count": 3,
     "metadata": {},
     "output_type": "execute_result"
    }
   ],
   "source": [
    "Vegas_Odds"
   ]
  },
  {
   "cell_type": "code",
   "execution_count": 4,
   "metadata": {},
   "outputs": [
    {
     "data": {
      "text/plain": [
       "Date     0.0\n",
       "VH       0.0\n",
       "Team     0.0\n",
       "Final    0.0\n",
       "Open     0.0\n",
       "Close    0.0\n",
       "dtype: float64"
      ]
     },
     "execution_count": 4,
     "metadata": {},
     "output_type": "execute_result"
    }
   ],
   "source": [
    "Vegas_Odds.isna().mean()"
   ]
  },
  {
   "cell_type": "markdown",
   "metadata": {},
   "source": [
    "Splitting Dataframe based on home team or away team"
   ]
  },
  {
   "cell_type": "code",
   "execution_count": 5,
   "metadata": {},
   "outputs": [],
   "source": [
    "Vegas_Odds_Home =  Vegas_Odds[Vegas_Odds['VH'] == 'H']\n",
    "Vegas_Odds_Visitor =  Vegas_Odds[Vegas_Odds['VH'] == 'V']"
   ]
  },
  {
   "cell_type": "code",
   "execution_count": 6,
   "metadata": {},
   "outputs": [],
   "source": [
    "Vegas_Odds_Home.rename(columns={'Team':'Home_Team','Final':'Home_Score','Open':'HOpen','Close':'HClose'},inplace=True)"
   ]
  },
  {
   "cell_type": "code",
   "execution_count": 7,
   "metadata": {},
   "outputs": [],
   "source": [
    "Vegas_Odds_Visitor.rename(columns={'Team':'Visitor_Team','Final':'Visitor_Score','Open':'VOpen','Close':'VClose'},inplace=True)"
   ]
  },
  {
   "cell_type": "code",
   "execution_count": 8,
   "metadata": {},
   "outputs": [],
   "source": [
    "Vegas_Odds_Home.insert(0,'index',range(0+ len(Vegas_Odds_Home)))"
   ]
  },
  {
   "cell_type": "code",
   "execution_count": 9,
   "metadata": {},
   "outputs": [],
   "source": [
    "Vegas_Odds_Home.set_index('index',inplace=True)"
   ]
  },
  {
   "cell_type": "code",
   "execution_count": 10,
   "metadata": {},
   "outputs": [],
   "source": [
    "Vegas_Odds_Visitor.insert(0,'index',range(0+ len(Vegas_Odds_Visitor)))"
   ]
  },
  {
   "cell_type": "code",
   "execution_count": 11,
   "metadata": {},
   "outputs": [],
   "source": [
    "Vegas_Odds_Visitor.set_index('index',inplace=True)"
   ]
  },
  {
   "cell_type": "markdown",
   "metadata": {},
   "source": [
    "Merging the dataframes back together"
   ]
  },
  {
   "cell_type": "code",
   "execution_count": 12,
   "metadata": {},
   "outputs": [],
   "source": [
    "Vegas_Final = pd.merge(Vegas_Odds_Home,Vegas_Odds_Visitor, left_index=True, right_index=True,how='outer')"
   ]
  },
  {
   "cell_type": "code",
   "execution_count": 13,
   "metadata": {},
   "outputs": [],
   "source": [
    "Vegas_Final.set_index('Date_x',inplace=True)"
   ]
  },
  {
   "cell_type": "code",
   "execution_count": 14,
   "metadata": {},
   "outputs": [],
   "source": [
    "Vegas_Final = Vegas_Final[['Home_Team','Visitor_Team','Home_Score',\n",
    "                          'Visitor_Score','HOpen','HClose','VOpen','VClose']]"
   ]
  },
  {
   "cell_type": "markdown",
   "metadata": {},
   "source": [
    "Creating opening and closing spread bet columns"
   ]
  },
  {
   "cell_type": "code",
   "execution_count": 15,
   "metadata": {},
   "outputs": [],
   "source": [
    "Vegas_Final['HOpen'] = np.where((Vegas_Final['HOpen'] == 'pk'),0,Vegas_Final['HOpen'])\n",
    "Vegas_Final['HClose'] = np.where((Vegas_Final['HClose'] == 'pk'),0,Vegas_Final['HClose'])\n",
    "Vegas_Final['VOpen'] = np.where((Vegas_Final['VOpen'] == 'pk'),0,Vegas_Final['VOpen'])\n",
    "Vegas_Final['VClose'] = np.where((Vegas_Final['VClose'] == 'pk'),0,Vegas_Final['VClose'])"
   ]
  },
  {
   "cell_type": "code",
   "execution_count": 16,
   "metadata": {},
   "outputs": [],
   "source": [
    "def spread(row,x):\n",
    "    if row['HOpen'] < x:\n",
    "        return row['HOpen']\n",
    "    else:\n",
    "        return (row['VOpen']*-1) "
   ]
  },
  {
   "cell_type": "code",
   "execution_count": 17,
   "metadata": {},
   "outputs": [],
   "source": [
    "Vegas_Final['OSpread'] = Vegas_Final.apply(lambda row: spread(row,20),axis=1)"
   ]
  },
  {
   "cell_type": "code",
   "execution_count": 18,
   "metadata": {},
   "outputs": [],
   "source": [
    "def Cspread(row,x):\n",
    "    if row['HClose'] < x:\n",
    "        return row['HClose']\n",
    "    else:\n",
    "        return (row['VClose']*-1) "
   ]
  },
  {
   "cell_type": "code",
   "execution_count": 19,
   "metadata": {},
   "outputs": [],
   "source": [
    "Vegas_Final['CSpread'] = Vegas_Final.apply(lambda row: Cspread(row,20),axis=1)"
   ]
  },
  {
   "cell_type": "markdown",
   "metadata": {},
   "source": [
    "Creating a point differential column"
   ]
  },
  {
   "cell_type": "code",
   "execution_count": 20,
   "metadata": {},
   "outputs": [],
   "source": [
    "Vegas_Final['PointDiff'] = Vegas_Final['Home_Score'] - Vegas_Final['Visitor_Score']"
   ]
  },
  {
   "cell_type": "markdown",
   "metadata": {},
   "source": [
    "Home team wins column"
   ]
  },
  {
   "cell_type": "code",
   "execution_count": 21,
   "metadata": {},
   "outputs": [],
   "source": [
    "Vegas_Final['Home_Win'] = np.where(Vegas_Final.Home_Score > Vegas_Final.Visitor_Score,\n",
    "                                  1, 0)"
   ]
  },
  {
   "cell_type": "markdown",
   "metadata": {},
   "source": [
    "Spread is won column"
   ]
  },
  {
   "cell_type": "code",
   "execution_count": 22,
   "metadata": {},
   "outputs": [],
   "source": [
    "Vegas_Final['OSpreadWin'] = np.where(Vegas_Final.PointDiff > Vegas_Final['OSpread'],1, 0)\n",
    "Vegas_Final['CSpreadWin'] = np.where(Vegas_Final.PointDiff > Vegas_Final['CSpread'],1, 0)"
   ]
  },
  {
   "cell_type": "code",
   "execution_count": 23,
   "metadata": {},
   "outputs": [],
   "source": [
    "def conditions(s):\n",
    "    if (s['OSpreadWin'] == 1) & (s['CSpreadWin'] == 1):\n",
    "        return 1\n",
    "    else:\n",
    "        return 0"
   ]
  },
  {
   "cell_type": "code",
   "execution_count": 24,
   "metadata": {},
   "outputs": [],
   "source": [
    "Vegas_Final['SpreadW'] = Vegas_Final.apply(lambda s: conditions(s),axis=1)"
   ]
  },
  {
   "cell_type": "code",
   "execution_count": 25,
   "metadata": {},
   "outputs": [
    {
     "data": {
      "text/plain": [
       "array(['Brooklyn', 'LALakers', 'Cleveland', 'Indiana', 'Orlando',\n",
       "       'Philadelphia', 'Boston', 'Toronto', 'Chicago', 'Memphis',\n",
       "       'Minnesota', 'Denver', 'Portland', 'Phoenix', 'Miami', 'Milwaukee',\n",
       "       'Detroit', 'Washington', 'Charlotte', 'NewYork', 'SanAntonio',\n",
       "       'Utah', 'Sacramento', 'LAClippers', 'NewOrleans', 'Atlanta',\n",
       "       'OklahomaCity', 'Dallas', 'Houston', 'GoldenState'], dtype=object)"
      ]
     },
     "execution_count": 25,
     "metadata": {},
     "output_type": "execute_result"
    }
   ],
   "source": [
    "Vegas_Final['Home_Team'].unique()"
   ]
  },
  {
   "cell_type": "markdown",
   "metadata": {},
   "source": [
    "Dictionary created to rename teams"
   ]
  },
  {
   "cell_type": "code",
   "execution_count": 26,
   "metadata": {},
   "outputs": [],
   "source": [
    "NBA_TTA = {'Brooklyn':'Nets','LALakers':'Lakers','Cleveland':'Cavaliers','Indiana':'Pacers',\n",
    "          'Orlando':'Magic',\n",
    " 'Philadelphia':'76ers',\n",
    " 'Boston':'Celtics',\n",
    " 'Toronto':'Raptors',\n",
    " 'Chicago':'Bulls',\n",
    " 'Memphis':'Grizzlies',\n",
    " 'Minnesota':'Timberwolves',\n",
    " 'Denver':'Nuggets',\n",
    " 'Portland':'Trail Blazers',\n",
    " 'Phoenix':'Suns',\n",
    " 'Miami':'Heat',\n",
    " 'Milwaukee':'Bucks',\n",
    " 'Detroit':'Pistons',\n",
    " 'Washington':'Wizards',\n",
    " 'Charlotte':'Hornets',\n",
    " 'NewYork':'Knicks',\n",
    " 'SanAntonio':'Spurs',\n",
    " 'Utah':'Jazz',\n",
    " 'Sacramento':'Kings',\n",
    " 'LAClippers':'Clippers',\n",
    " 'NewOrleans':'Pelicans',\n",
    " 'Atlanta':'Hawks',\n",
    " 'OklahomaCity':'Thunder',\n",
    " 'Dallas':'Mavericks',\n",
    " 'Houston':'Rockets',\n",
    " 'GoldenState':'Warriors'}\n",
    "Vegas_Final.Home_Team = Vegas_Final.Home_Team.map(NBA_TTA)\n",
    "Vegas_Final.Visitor_Team = Vegas_Final.Visitor_Team.map(NBA_TTA)"
   ]
  },
  {
   "cell_type": "code",
   "execution_count": 27,
   "metadata": {},
   "outputs": [
    {
     "data": {
      "text/html": [
       "<div>\n",
       "<style scoped>\n",
       "    .dataframe tbody tr th:only-of-type {\n",
       "        vertical-align: middle;\n",
       "    }\n",
       "\n",
       "    .dataframe tbody tr th {\n",
       "        vertical-align: top;\n",
       "    }\n",
       "\n",
       "    .dataframe thead th {\n",
       "        text-align: right;\n",
       "    }\n",
       "</style>\n",
       "<table border=\"1\" class=\"dataframe\">\n",
       "  <thead>\n",
       "    <tr style=\"text-align: right;\">\n",
       "      <th></th>\n",
       "      <th>Home_Team</th>\n",
       "      <th>Visitor_Team</th>\n",
       "      <th>Home_Score</th>\n",
       "      <th>Visitor_Score</th>\n",
       "      <th>HOpen</th>\n",
       "      <th>HClose</th>\n",
       "      <th>VOpen</th>\n",
       "      <th>VClose</th>\n",
       "      <th>OSpread</th>\n",
       "      <th>CSpread</th>\n",
       "      <th>PointDiff</th>\n",
       "      <th>Home_Win</th>\n",
       "      <th>OSpreadWin</th>\n",
       "      <th>CSpreadWin</th>\n",
       "      <th>SpreadW</th>\n",
       "    </tr>\n",
       "    <tr>\n",
       "      <th>Date_x</th>\n",
       "      <th></th>\n",
       "      <th></th>\n",
       "      <th></th>\n",
       "      <th></th>\n",
       "      <th></th>\n",
       "      <th></th>\n",
       "      <th></th>\n",
       "      <th></th>\n",
       "      <th></th>\n",
       "      <th></th>\n",
       "      <th></th>\n",
       "      <th></th>\n",
       "      <th></th>\n",
       "      <th></th>\n",
       "      <th></th>\n",
       "    </tr>\n",
       "  </thead>\n",
       "  <tbody>\n",
       "    <tr>\n",
       "      <th>2020-12-22</th>\n",
       "      <td>Nets</td>\n",
       "      <td>Warriors</td>\n",
       "      <td>125</td>\n",
       "      <td>99</td>\n",
       "      <td>5.5</td>\n",
       "      <td>7.5</td>\n",
       "      <td>228</td>\n",
       "      <td>234.5</td>\n",
       "      <td>5.5</td>\n",
       "      <td>7.5</td>\n",
       "      <td>26</td>\n",
       "      <td>1</td>\n",
       "      <td>1</td>\n",
       "      <td>1</td>\n",
       "      <td>1</td>\n",
       "    </tr>\n",
       "    <tr>\n",
       "      <th>2020-12-22</th>\n",
       "      <td>Lakers</td>\n",
       "      <td>Clippers</td>\n",
       "      <td>109</td>\n",
       "      <td>116</td>\n",
       "      <td>2.5</td>\n",
       "      <td>2</td>\n",
       "      <td>223</td>\n",
       "      <td>219</td>\n",
       "      <td>2.5</td>\n",
       "      <td>2.0</td>\n",
       "      <td>-7</td>\n",
       "      <td>0</td>\n",
       "      <td>0</td>\n",
       "      <td>0</td>\n",
       "      <td>0</td>\n",
       "    </tr>\n",
       "    <tr>\n",
       "      <th>2020-12-23</th>\n",
       "      <td>Cavaliers</td>\n",
       "      <td>Hornets</td>\n",
       "      <td>121</td>\n",
       "      <td>114</td>\n",
       "      <td>1</td>\n",
       "      <td>217</td>\n",
       "      <td>215</td>\n",
       "      <td>3</td>\n",
       "      <td>1.0</td>\n",
       "      <td>-3.0</td>\n",
       "      <td>7</td>\n",
       "      <td>1</td>\n",
       "      <td>1</td>\n",
       "      <td>1</td>\n",
       "      <td>1</td>\n",
       "    </tr>\n",
       "    <tr>\n",
       "      <th>2020-12-23</th>\n",
       "      <td>Pacers</td>\n",
       "      <td>Knicks</td>\n",
       "      <td>121</td>\n",
       "      <td>107</td>\n",
       "      <td>8.5</td>\n",
       "      <td>7.5</td>\n",
       "      <td>214.5</td>\n",
       "      <td>215.5</td>\n",
       "      <td>8.5</td>\n",
       "      <td>7.5</td>\n",
       "      <td>14</td>\n",
       "      <td>1</td>\n",
       "      <td>1</td>\n",
       "      <td>1</td>\n",
       "      <td>1</td>\n",
       "    </tr>\n",
       "    <tr>\n",
       "      <th>2020-12-23</th>\n",
       "      <td>Magic</td>\n",
       "      <td>Heat</td>\n",
       "      <td>113</td>\n",
       "      <td>107</td>\n",
       "      <td>220.5</td>\n",
       "      <td>219</td>\n",
       "      <td>3.5</td>\n",
       "      <td>4.5</td>\n",
       "      <td>-3.5</td>\n",
       "      <td>-4.5</td>\n",
       "      <td>6</td>\n",
       "      <td>1</td>\n",
       "      <td>1</td>\n",
       "      <td>1</td>\n",
       "      <td>1</td>\n",
       "    </tr>\n",
       "    <tr>\n",
       "      <th>...</th>\n",
       "      <td>...</td>\n",
       "      <td>...</td>\n",
       "      <td>...</td>\n",
       "      <td>...</td>\n",
       "      <td>...</td>\n",
       "      <td>...</td>\n",
       "      <td>...</td>\n",
       "      <td>...</td>\n",
       "      <td>...</td>\n",
       "      <td>...</td>\n",
       "      <td>...</td>\n",
       "      <td>...</td>\n",
       "      <td>...</td>\n",
       "      <td>...</td>\n",
       "      <td>...</td>\n",
       "    </tr>\n",
       "    <tr>\n",
       "      <th>2021-05-16</th>\n",
       "      <td>Trail Blazers</td>\n",
       "      <td>Nuggets</td>\n",
       "      <td>132</td>\n",
       "      <td>116</td>\n",
       "      <td>8.5</td>\n",
       "      <td>8.5</td>\n",
       "      <td>230.5</td>\n",
       "      <td>228.5</td>\n",
       "      <td>8.5</td>\n",
       "      <td>8.5</td>\n",
       "      <td>16</td>\n",
       "      <td>1</td>\n",
       "      <td>1</td>\n",
       "      <td>1</td>\n",
       "      <td>1</td>\n",
       "    </tr>\n",
       "    <tr>\n",
       "      <th>2021-05-16</th>\n",
       "      <td>Bulls</td>\n",
       "      <td>Bucks</td>\n",
       "      <td>118</td>\n",
       "      <td>112</td>\n",
       "      <td>224.5</td>\n",
       "      <td>224.5</td>\n",
       "      <td>2.5</td>\n",
       "      <td>7</td>\n",
       "      <td>-2.5</td>\n",
       "      <td>-7.0</td>\n",
       "      <td>6</td>\n",
       "      <td>1</td>\n",
       "      <td>1</td>\n",
       "      <td>1</td>\n",
       "      <td>1</td>\n",
       "    </tr>\n",
       "    <tr>\n",
       "      <th>2021-05-16</th>\n",
       "      <td>Wizards</td>\n",
       "      <td>Hornets</td>\n",
       "      <td>115</td>\n",
       "      <td>110</td>\n",
       "      <td>6.5</td>\n",
       "      <td>7</td>\n",
       "      <td>228.5</td>\n",
       "      <td>230.5</td>\n",
       "      <td>6.5</td>\n",
       "      <td>7.0</td>\n",
       "      <td>5</td>\n",
       "      <td>1</td>\n",
       "      <td>0</td>\n",
       "      <td>0</td>\n",
       "      <td>0</td>\n",
       "    </tr>\n",
       "    <tr>\n",
       "      <th>2021-05-16</th>\n",
       "      <td>Knicks</td>\n",
       "      <td>Celtics</td>\n",
       "      <td>96</td>\n",
       "      <td>92</td>\n",
       "      <td>8.5</td>\n",
       "      <td>12</td>\n",
       "      <td>215.5</td>\n",
       "      <td>211</td>\n",
       "      <td>8.5</td>\n",
       "      <td>12.0</td>\n",
       "      <td>4</td>\n",
       "      <td>1</td>\n",
       "      <td>0</td>\n",
       "      <td>0</td>\n",
       "      <td>0</td>\n",
       "    </tr>\n",
       "    <tr>\n",
       "      <th>2021-05-16</th>\n",
       "      <td>Raptors</td>\n",
       "      <td>Pacers</td>\n",
       "      <td>113</td>\n",
       "      <td>125</td>\n",
       "      <td>229.5</td>\n",
       "      <td>226.5</td>\n",
       "      <td>7</td>\n",
       "      <td>6</td>\n",
       "      <td>-7.0</td>\n",
       "      <td>-6.0</td>\n",
       "      <td>-12</td>\n",
       "      <td>0</td>\n",
       "      <td>0</td>\n",
       "      <td>0</td>\n",
       "      <td>0</td>\n",
       "    </tr>\n",
       "  </tbody>\n",
       "</table>\n",
       "<p>1080 rows × 15 columns</p>\n",
       "</div>"
      ],
      "text/plain": [
       "                Home_Team Visitor_Team  Home_Score  Visitor_Score  HOpen  \\\n",
       "Date_x                                                                     \n",
       "2020-12-22           Nets     Warriors         125             99    5.5   \n",
       "2020-12-22         Lakers     Clippers         109            116    2.5   \n",
       "2020-12-23      Cavaliers      Hornets         121            114      1   \n",
       "2020-12-23         Pacers       Knicks         121            107    8.5   \n",
       "2020-12-23          Magic         Heat         113            107  220.5   \n",
       "...                   ...          ...         ...            ...    ...   \n",
       "2021-05-16  Trail Blazers      Nuggets         132            116    8.5   \n",
       "2021-05-16          Bulls        Bucks         118            112  224.5   \n",
       "2021-05-16        Wizards      Hornets         115            110    6.5   \n",
       "2021-05-16         Knicks      Celtics          96             92    8.5   \n",
       "2021-05-16        Raptors       Pacers         113            125  229.5   \n",
       "\n",
       "           HClose  VOpen VClose  OSpread  CSpread  PointDiff  Home_Win  \\\n",
       "Date_x                                                                   \n",
       "2020-12-22    7.5    228  234.5      5.5      7.5         26         1   \n",
       "2020-12-22      2    223    219      2.5      2.0         -7         0   \n",
       "2020-12-23    217    215      3      1.0     -3.0          7         1   \n",
       "2020-12-23    7.5  214.5  215.5      8.5      7.5         14         1   \n",
       "2020-12-23    219    3.5    4.5     -3.5     -4.5          6         1   \n",
       "...           ...    ...    ...      ...      ...        ...       ...   \n",
       "2021-05-16    8.5  230.5  228.5      8.5      8.5         16         1   \n",
       "2021-05-16  224.5    2.5      7     -2.5     -7.0          6         1   \n",
       "2021-05-16      7  228.5  230.5      6.5      7.0          5         1   \n",
       "2021-05-16     12  215.5    211      8.5     12.0          4         1   \n",
       "2021-05-16  226.5      7      6     -7.0     -6.0        -12         0   \n",
       "\n",
       "            OSpreadWin  CSpreadWin  SpreadW  \n",
       "Date_x                                       \n",
       "2020-12-22           1           1        1  \n",
       "2020-12-22           0           0        0  \n",
       "2020-12-23           1           1        1  \n",
       "2020-12-23           1           1        1  \n",
       "2020-12-23           1           1        1  \n",
       "...                ...         ...      ...  \n",
       "2021-05-16           1           1        1  \n",
       "2021-05-16           1           1        1  \n",
       "2021-05-16           0           0        0  \n",
       "2021-05-16           0           0        0  \n",
       "2021-05-16           0           0        0  \n",
       "\n",
       "[1080 rows x 15 columns]"
      ]
     },
     "execution_count": 27,
     "metadata": {},
     "output_type": "execute_result"
    }
   ],
   "source": [
    "Vegas_Final"
   ]
  },
  {
   "cell_type": "markdown",
   "metadata": {},
   "source": [
    "Regular Season game Dataframe"
   ]
  },
  {
   "cell_type": "code",
   "execution_count": 28,
   "metadata": {},
   "outputs": [
    {
     "data": {
      "text/html": [
       "<div>\n",
       "<style scoped>\n",
       "    .dataframe tbody tr th:only-of-type {\n",
       "        vertical-align: middle;\n",
       "    }\n",
       "\n",
       "    .dataframe tbody tr th {\n",
       "        vertical-align: top;\n",
       "    }\n",
       "\n",
       "    .dataframe thead th {\n",
       "        text-align: right;\n",
       "    }\n",
       "</style>\n",
       "<table border=\"1\" class=\"dataframe\">\n",
       "  <thead>\n",
       "    <tr style=\"text-align: right;\">\n",
       "      <th></th>\n",
       "      <th>GAME_DATE_EST</th>\n",
       "      <th>GAME_ID</th>\n",
       "      <th>GAME_STATUS_TEXT</th>\n",
       "      <th>HOME_TEAM_ID</th>\n",
       "      <th>VISITOR_TEAM_ID</th>\n",
       "      <th>SEASON</th>\n",
       "      <th>TEAM_ID_home</th>\n",
       "      <th>PTS_home</th>\n",
       "      <th>FG_PCT_home</th>\n",
       "      <th>FT_PCT_home</th>\n",
       "      <th>...</th>\n",
       "      <th>AST_home</th>\n",
       "      <th>REB_home</th>\n",
       "      <th>TEAM_ID_away</th>\n",
       "      <th>PTS_away</th>\n",
       "      <th>FG_PCT_away</th>\n",
       "      <th>FT_PCT_away</th>\n",
       "      <th>FG3_PCT_away</th>\n",
       "      <th>AST_away</th>\n",
       "      <th>REB_away</th>\n",
       "      <th>HOME_TEAM_WINS</th>\n",
       "    </tr>\n",
       "  </thead>\n",
       "  <tbody>\n",
       "    <tr>\n",
       "      <th>552</th>\n",
       "      <td>2020-12-22</td>\n",
       "      <td>22000002</td>\n",
       "      <td>Final</td>\n",
       "      <td>1610612747</td>\n",
       "      <td>1610612746</td>\n",
       "      <td>2020</td>\n",
       "      <td>1610612747</td>\n",
       "      <td>109.0</td>\n",
       "      <td>0.469</td>\n",
       "      <td>0.774</td>\n",
       "      <td>...</td>\n",
       "      <td>22.0</td>\n",
       "      <td>45.0</td>\n",
       "      <td>1610612746</td>\n",
       "      <td>116.0</td>\n",
       "      <td>0.473</td>\n",
       "      <td>0.737</td>\n",
       "      <td>0.350</td>\n",
       "      <td>22.0</td>\n",
       "      <td>40.0</td>\n",
       "      <td>0</td>\n",
       "    </tr>\n",
       "    <tr>\n",
       "      <th>551</th>\n",
       "      <td>2020-12-22</td>\n",
       "      <td>22000001</td>\n",
       "      <td>Final</td>\n",
       "      <td>1610612751</td>\n",
       "      <td>1610612744</td>\n",
       "      <td>2020</td>\n",
       "      <td>1610612751</td>\n",
       "      <td>125.0</td>\n",
       "      <td>0.457</td>\n",
       "      <td>0.813</td>\n",
       "      <td>...</td>\n",
       "      <td>24.0</td>\n",
       "      <td>57.0</td>\n",
       "      <td>1610612744</td>\n",
       "      <td>99.0</td>\n",
       "      <td>0.374</td>\n",
       "      <td>0.652</td>\n",
       "      <td>0.303</td>\n",
       "      <td>26.0</td>\n",
       "      <td>47.0</td>\n",
       "      <td>1</td>\n",
       "    </tr>\n",
       "    <tr>\n",
       "      <th>1156</th>\n",
       "      <td>2020-12-23</td>\n",
       "      <td>22000004</td>\n",
       "      <td>Final</td>\n",
       "      <td>1610612756</td>\n",
       "      <td>1610612742</td>\n",
       "      <td>2020</td>\n",
       "      <td>1610612756</td>\n",
       "      <td>106.0</td>\n",
       "      <td>0.481</td>\n",
       "      <td>0.704</td>\n",
       "      <td>...</td>\n",
       "      <td>21.0</td>\n",
       "      <td>48.0</td>\n",
       "      <td>1610612742</td>\n",
       "      <td>102.0</td>\n",
       "      <td>0.424</td>\n",
       "      <td>0.808</td>\n",
       "      <td>0.243</td>\n",
       "      <td>17.0</td>\n",
       "      <td>39.0</td>\n",
       "      <td>1</td>\n",
       "    </tr>\n",
       "    <tr>\n",
       "      <th>1155</th>\n",
       "      <td>2020-12-23</td>\n",
       "      <td>22000018</td>\n",
       "      <td>Final</td>\n",
       "      <td>1610612750</td>\n",
       "      <td>1610612765</td>\n",
       "      <td>2020</td>\n",
       "      <td>1610612750</td>\n",
       "      <td>111.0</td>\n",
       "      <td>0.432</td>\n",
       "      <td>0.857</td>\n",
       "      <td>...</td>\n",
       "      <td>25.0</td>\n",
       "      <td>48.0</td>\n",
       "      <td>1610612765</td>\n",
       "      <td>101.0</td>\n",
       "      <td>0.484</td>\n",
       "      <td>0.375</td>\n",
       "      <td>0.229</td>\n",
       "      <td>29.0</td>\n",
       "      <td>44.0</td>\n",
       "      <td>1</td>\n",
       "    </tr>\n",
       "    <tr>\n",
       "      <th>550</th>\n",
       "      <td>2020-12-23</td>\n",
       "      <td>22000004</td>\n",
       "      <td>Final</td>\n",
       "      <td>1610612756</td>\n",
       "      <td>1610612742</td>\n",
       "      <td>2020</td>\n",
       "      <td>1610612756</td>\n",
       "      <td>106.0</td>\n",
       "      <td>0.481</td>\n",
       "      <td>0.704</td>\n",
       "      <td>...</td>\n",
       "      <td>21.0</td>\n",
       "      <td>48.0</td>\n",
       "      <td>1610612742</td>\n",
       "      <td>102.0</td>\n",
       "      <td>0.424</td>\n",
       "      <td>0.808</td>\n",
       "      <td>0.243</td>\n",
       "      <td>17.0</td>\n",
       "      <td>39.0</td>\n",
       "      <td>1</td>\n",
       "    </tr>\n",
       "    <tr>\n",
       "      <th>...</th>\n",
       "      <td>...</td>\n",
       "      <td>...</td>\n",
       "      <td>...</td>\n",
       "      <td>...</td>\n",
       "      <td>...</td>\n",
       "      <td>...</td>\n",
       "      <td>...</td>\n",
       "      <td>...</td>\n",
       "      <td>...</td>\n",
       "      <td>...</td>\n",
       "      <td>...</td>\n",
       "      <td>...</td>\n",
       "      <td>...</td>\n",
       "      <td>...</td>\n",
       "      <td>...</td>\n",
       "      <td>...</td>\n",
       "      <td>...</td>\n",
       "      <td>...</td>\n",
       "      <td>...</td>\n",
       "      <td>...</td>\n",
       "      <td>...</td>\n",
       "    </tr>\n",
       "    <tr>\n",
       "      <th>34</th>\n",
       "      <td>2021-05-16</td>\n",
       "      <td>22001074</td>\n",
       "      <td>Final</td>\n",
       "      <td>1610612760</td>\n",
       "      <td>1610612746</td>\n",
       "      <td>2020</td>\n",
       "      <td>1610612760</td>\n",
       "      <td>117.0</td>\n",
       "      <td>0.532</td>\n",
       "      <td>0.563</td>\n",
       "      <td>...</td>\n",
       "      <td>20.0</td>\n",
       "      <td>54.0</td>\n",
       "      <td>1610612746</td>\n",
       "      <td>112.0</td>\n",
       "      <td>0.425</td>\n",
       "      <td>0.800</td>\n",
       "      <td>0.233</td>\n",
       "      <td>17.0</td>\n",
       "      <td>44.0</td>\n",
       "      <td>1</td>\n",
       "    </tr>\n",
       "    <tr>\n",
       "      <th>35</th>\n",
       "      <td>2021-05-16</td>\n",
       "      <td>22001076</td>\n",
       "      <td>Final</td>\n",
       "      <td>1610612757</td>\n",
       "      <td>1610612743</td>\n",
       "      <td>2020</td>\n",
       "      <td>1610612757</td>\n",
       "      <td>132.0</td>\n",
       "      <td>0.529</td>\n",
       "      <td>0.846</td>\n",
       "      <td>...</td>\n",
       "      <td>24.0</td>\n",
       "      <td>51.0</td>\n",
       "      <td>1610612743</td>\n",
       "      <td>116.0</td>\n",
       "      <td>0.449</td>\n",
       "      <td>0.933</td>\n",
       "      <td>0.378</td>\n",
       "      <td>20.0</td>\n",
       "      <td>36.0</td>\n",
       "      <td>1</td>\n",
       "    </tr>\n",
       "    <tr>\n",
       "      <th>36</th>\n",
       "      <td>2021-05-16</td>\n",
       "      <td>22001077</td>\n",
       "      <td>Final</td>\n",
       "      <td>1610612758</td>\n",
       "      <td>1610612762</td>\n",
       "      <td>2020</td>\n",
       "      <td>1610612758</td>\n",
       "      <td>99.0</td>\n",
       "      <td>0.467</td>\n",
       "      <td>0.600</td>\n",
       "      <td>...</td>\n",
       "      <td>24.0</td>\n",
       "      <td>39.0</td>\n",
       "      <td>1610612762</td>\n",
       "      <td>121.0</td>\n",
       "      <td>0.477</td>\n",
       "      <td>0.840</td>\n",
       "      <td>0.462</td>\n",
       "      <td>28.0</td>\n",
       "      <td>50.0</td>\n",
       "      <td>0</td>\n",
       "    </tr>\n",
       "    <tr>\n",
       "      <th>29</th>\n",
       "      <td>2021-05-16</td>\n",
       "      <td>22001075</td>\n",
       "      <td>Final</td>\n",
       "      <td>1610612755</td>\n",
       "      <td>1610612753</td>\n",
       "      <td>2020</td>\n",
       "      <td>1610612755</td>\n",
       "      <td>128.0</td>\n",
       "      <td>0.489</td>\n",
       "      <td>0.739</td>\n",
       "      <td>...</td>\n",
       "      <td>35.0</td>\n",
       "      <td>41.0</td>\n",
       "      <td>1610612753</td>\n",
       "      <td>117.0</td>\n",
       "      <td>0.474</td>\n",
       "      <td>0.854</td>\n",
       "      <td>0.357</td>\n",
       "      <td>23.0</td>\n",
       "      <td>47.0</td>\n",
       "      <td>1</td>\n",
       "    </tr>\n",
       "    <tr>\n",
       "      <th>22</th>\n",
       "      <td>2021-05-16</td>\n",
       "      <td>22001073</td>\n",
       "      <td>Final</td>\n",
       "      <td>1610612752</td>\n",
       "      <td>1610612738</td>\n",
       "      <td>2020</td>\n",
       "      <td>1610612752</td>\n",
       "      <td>96.0</td>\n",
       "      <td>0.430</td>\n",
       "      <td>0.789</td>\n",
       "      <td>...</td>\n",
       "      <td>16.0</td>\n",
       "      <td>41.0</td>\n",
       "      <td>1610612738</td>\n",
       "      <td>92.0</td>\n",
       "      <td>0.407</td>\n",
       "      <td>0.733</td>\n",
       "      <td>0.268</td>\n",
       "      <td>19.0</td>\n",
       "      <td>46.0</td>\n",
       "      <td>1</td>\n",
       "    </tr>\n",
       "  </tbody>\n",
       "</table>\n",
       "<p>1135 rows × 21 columns</p>\n",
       "</div>"
      ],
      "text/plain": [
       "     GAME_DATE_EST   GAME_ID GAME_STATUS_TEXT  HOME_TEAM_ID  VISITOR_TEAM_ID  \\\n",
       "552     2020-12-22  22000002            Final    1610612747       1610612746   \n",
       "551     2020-12-22  22000001            Final    1610612751       1610612744   \n",
       "1156    2020-12-23  22000004            Final    1610612756       1610612742   \n",
       "1155    2020-12-23  22000018            Final    1610612750       1610612765   \n",
       "550     2020-12-23  22000004            Final    1610612756       1610612742   \n",
       "...            ...       ...              ...           ...              ...   \n",
       "34      2021-05-16  22001074            Final    1610612760       1610612746   \n",
       "35      2021-05-16  22001076            Final    1610612757       1610612743   \n",
       "36      2021-05-16  22001077            Final    1610612758       1610612762   \n",
       "29      2021-05-16  22001075            Final    1610612755       1610612753   \n",
       "22      2021-05-16  22001073            Final    1610612752       1610612738   \n",
       "\n",
       "      SEASON  TEAM_ID_home  PTS_home  FG_PCT_home  FT_PCT_home  ...  AST_home  \\\n",
       "552     2020    1610612747     109.0        0.469        0.774  ...      22.0   \n",
       "551     2020    1610612751     125.0        0.457        0.813  ...      24.0   \n",
       "1156    2020    1610612756     106.0        0.481        0.704  ...      21.0   \n",
       "1155    2020    1610612750     111.0        0.432        0.857  ...      25.0   \n",
       "550     2020    1610612756     106.0        0.481        0.704  ...      21.0   \n",
       "...      ...           ...       ...          ...          ...  ...       ...   \n",
       "34      2020    1610612760     117.0        0.532        0.563  ...      20.0   \n",
       "35      2020    1610612757     132.0        0.529        0.846  ...      24.0   \n",
       "36      2020    1610612758      99.0        0.467        0.600  ...      24.0   \n",
       "29      2020    1610612755     128.0        0.489        0.739  ...      35.0   \n",
       "22      2020    1610612752      96.0        0.430        0.789  ...      16.0   \n",
       "\n",
       "      REB_home  TEAM_ID_away  PTS_away  FG_PCT_away  FT_PCT_away  \\\n",
       "552       45.0    1610612746     116.0        0.473        0.737   \n",
       "551       57.0    1610612744      99.0        0.374        0.652   \n",
       "1156      48.0    1610612742     102.0        0.424        0.808   \n",
       "1155      48.0    1610612765     101.0        0.484        0.375   \n",
       "550       48.0    1610612742     102.0        0.424        0.808   \n",
       "...        ...           ...       ...          ...          ...   \n",
       "34        54.0    1610612746     112.0        0.425        0.800   \n",
       "35        51.0    1610612743     116.0        0.449        0.933   \n",
       "36        39.0    1610612762     121.0        0.477        0.840   \n",
       "29        41.0    1610612753     117.0        0.474        0.854   \n",
       "22        41.0    1610612738      92.0        0.407        0.733   \n",
       "\n",
       "      FG3_PCT_away  AST_away  REB_away  HOME_TEAM_WINS  \n",
       "552          0.350      22.0      40.0               0  \n",
       "551          0.303      26.0      47.0               1  \n",
       "1156         0.243      17.0      39.0               1  \n",
       "1155         0.229      29.0      44.0               1  \n",
       "550          0.243      17.0      39.0               1  \n",
       "...            ...       ...       ...             ...  \n",
       "34           0.233      17.0      44.0               1  \n",
       "35           0.378      20.0      36.0               1  \n",
       "36           0.462      28.0      50.0               0  \n",
       "29           0.357      23.0      47.0               1  \n",
       "22           0.268      19.0      46.0               1  \n",
       "\n",
       "[1135 rows x 21 columns]"
      ]
     },
     "execution_count": 28,
     "metadata": {},
     "output_type": "execute_result"
    }
   ],
   "source": [
    "REGSEASON = Game_Log.loc[(Game_Log.GAME_DATE_EST >= '2020-12-22') & (Game_Log.GAME_DATE_EST <= '2021-05-16') ]\n",
    "REGSEASON.sort_values('GAME_DATE_EST')"
   ]
  },
  {
   "cell_type": "code",
   "execution_count": 29,
   "metadata": {},
   "outputs": [
    {
     "data": {
      "text/plain": [
       "Index(['GAME_DATE_EST', 'GAME_ID', 'GAME_STATUS_TEXT', 'HOME_TEAM_ID',\n",
       "       'VISITOR_TEAM_ID', 'SEASON', 'TEAM_ID_home', 'PTS_home', 'FG_PCT_home',\n",
       "       'FT_PCT_home', 'FG3_PCT_home', 'AST_home', 'REB_home', 'TEAM_ID_away',\n",
       "       'PTS_away', 'FG_PCT_away', 'FT_PCT_away', 'FG3_PCT_away', 'AST_away',\n",
       "       'REB_away', 'HOME_TEAM_WINS'],\n",
       "      dtype='object')"
      ]
     },
     "execution_count": 29,
     "metadata": {},
     "output_type": "execute_result"
    }
   ],
   "source": [
    "REGSEASON.columns"
   ]
  },
  {
   "cell_type": "code",
   "execution_count": 30,
   "metadata": {},
   "outputs": [],
   "source": [
    "REGSEASON.drop_duplicates(['GAME_ID'],keep='first',inplace=True)"
   ]
  },
  {
   "cell_type": "code",
   "execution_count": 31,
   "metadata": {},
   "outputs": [
    {
     "data": {
      "text/html": [
       "<div>\n",
       "<style scoped>\n",
       "    .dataframe tbody tr th:only-of-type {\n",
       "        vertical-align: middle;\n",
       "    }\n",
       "\n",
       "    .dataframe tbody tr th {\n",
       "        vertical-align: top;\n",
       "    }\n",
       "\n",
       "    .dataframe thead th {\n",
       "        text-align: right;\n",
       "    }\n",
       "</style>\n",
       "<table border=\"1\" class=\"dataframe\">\n",
       "  <thead>\n",
       "    <tr style=\"text-align: right;\">\n",
       "      <th></th>\n",
       "      <th>GAME_DATE_EST</th>\n",
       "      <th>GAME_ID</th>\n",
       "      <th>GAME_STATUS_TEXT</th>\n",
       "      <th>HOME_TEAM_ID</th>\n",
       "      <th>VISITOR_TEAM_ID</th>\n",
       "      <th>SEASON</th>\n",
       "      <th>TEAM_ID_home</th>\n",
       "      <th>PTS_home</th>\n",
       "      <th>FG_PCT_home</th>\n",
       "      <th>FT_PCT_home</th>\n",
       "      <th>...</th>\n",
       "      <th>FG_PCT_away</th>\n",
       "      <th>FT_PCT_away</th>\n",
       "      <th>FG3_PCT_away</th>\n",
       "      <th>AST_away</th>\n",
       "      <th>REB_away</th>\n",
       "      <th>HOME_TEAM_WINS</th>\n",
       "      <th>TEAM_ID_x</th>\n",
       "      <th>NICKNAME_x</th>\n",
       "      <th>TEAM_ID_y</th>\n",
       "      <th>NICKNAME_y</th>\n",
       "    </tr>\n",
       "  </thead>\n",
       "  <tbody>\n",
       "    <tr>\n",
       "      <th>0</th>\n",
       "      <td>2021-05-16</td>\n",
       "      <td>22001073</td>\n",
       "      <td>Final</td>\n",
       "      <td>1610612752</td>\n",
       "      <td>1610612738</td>\n",
       "      <td>2020</td>\n",
       "      <td>1610612752</td>\n",
       "      <td>96.0</td>\n",
       "      <td>0.430</td>\n",
       "      <td>0.789</td>\n",
       "      <td>...</td>\n",
       "      <td>0.407</td>\n",
       "      <td>0.733</td>\n",
       "      <td>0.268</td>\n",
       "      <td>19.0</td>\n",
       "      <td>46.0</td>\n",
       "      <td>1</td>\n",
       "      <td>1610612752</td>\n",
       "      <td>Knicks</td>\n",
       "      <td>1610612738</td>\n",
       "      <td>Celtics</td>\n",
       "    </tr>\n",
       "    <tr>\n",
       "      <th>1</th>\n",
       "      <td>2021-01-04</td>\n",
       "      <td>22000097</td>\n",
       "      <td>Final</td>\n",
       "      <td>1610612761</td>\n",
       "      <td>1610612738</td>\n",
       "      <td>2020</td>\n",
       "      <td>1610612761</td>\n",
       "      <td>114.0</td>\n",
       "      <td>0.400</td>\n",
       "      <td>0.763</td>\n",
       "      <td>...</td>\n",
       "      <td>0.488</td>\n",
       "      <td>0.853</td>\n",
       "      <td>0.517</td>\n",
       "      <td>19.0</td>\n",
       "      <td>56.0</td>\n",
       "      <td>0</td>\n",
       "      <td>1610612761</td>\n",
       "      <td>Raptors</td>\n",
       "      <td>1610612738</td>\n",
       "      <td>Celtics</td>\n",
       "    </tr>\n",
       "    <tr>\n",
       "      <th>2</th>\n",
       "      <td>2021-02-14</td>\n",
       "      <td>22000560</td>\n",
       "      <td>Final</td>\n",
       "      <td>1610612764</td>\n",
       "      <td>1610612738</td>\n",
       "      <td>2020</td>\n",
       "      <td>1610612764</td>\n",
       "      <td>104.0</td>\n",
       "      <td>0.398</td>\n",
       "      <td>0.861</td>\n",
       "      <td>...</td>\n",
       "      <td>0.356</td>\n",
       "      <td>0.600</td>\n",
       "      <td>0.257</td>\n",
       "      <td>14.0</td>\n",
       "      <td>50.0</td>\n",
       "      <td>1</td>\n",
       "      <td>1610612764</td>\n",
       "      <td>Wizards</td>\n",
       "      <td>1610612738</td>\n",
       "      <td>Celtics</td>\n",
       "    </tr>\n",
       "    <tr>\n",
       "      <th>3</th>\n",
       "      <td>2021-01-27</td>\n",
       "      <td>22000280</td>\n",
       "      <td>Final</td>\n",
       "      <td>1610612759</td>\n",
       "      <td>1610612738</td>\n",
       "      <td>2020</td>\n",
       "      <td>1610612759</td>\n",
       "      <td>110.0</td>\n",
       "      <td>0.561</td>\n",
       "      <td>0.625</td>\n",
       "      <td>...</td>\n",
       "      <td>0.429</td>\n",
       "      <td>0.857</td>\n",
       "      <td>0.333</td>\n",
       "      <td>15.0</td>\n",
       "      <td>39.0</td>\n",
       "      <td>1</td>\n",
       "      <td>1610612759</td>\n",
       "      <td>Spurs</td>\n",
       "      <td>1610612738</td>\n",
       "      <td>Celtics</td>\n",
       "    </tr>\n",
       "    <tr>\n",
       "      <th>4</th>\n",
       "      <td>2021-02-02</td>\n",
       "      <td>22000326</td>\n",
       "      <td>Final</td>\n",
       "      <td>1610612744</td>\n",
       "      <td>1610612738</td>\n",
       "      <td>2020</td>\n",
       "      <td>1610612744</td>\n",
       "      <td>107.0</td>\n",
       "      <td>0.458</td>\n",
       "      <td>0.696</td>\n",
       "      <td>...</td>\n",
       "      <td>0.464</td>\n",
       "      <td>0.741</td>\n",
       "      <td>0.382</td>\n",
       "      <td>16.0</td>\n",
       "      <td>51.0</td>\n",
       "      <td>0</td>\n",
       "      <td>1610612744</td>\n",
       "      <td>Warriors</td>\n",
       "      <td>1610612738</td>\n",
       "      <td>Celtics</td>\n",
       "    </tr>\n",
       "    <tr>\n",
       "      <th>...</th>\n",
       "      <td>...</td>\n",
       "      <td>...</td>\n",
       "      <td>...</td>\n",
       "      <td>...</td>\n",
       "      <td>...</td>\n",
       "      <td>...</td>\n",
       "      <td>...</td>\n",
       "      <td>...</td>\n",
       "      <td>...</td>\n",
       "      <td>...</td>\n",
       "      <td>...</td>\n",
       "      <td>...</td>\n",
       "      <td>...</td>\n",
       "      <td>...</td>\n",
       "      <td>...</td>\n",
       "      <td>...</td>\n",
       "      <td>...</td>\n",
       "      <td>...</td>\n",
       "      <td>...</td>\n",
       "      <td>...</td>\n",
       "      <td>...</td>\n",
       "    </tr>\n",
       "    <tr>\n",
       "      <th>1075</th>\n",
       "      <td>2021-04-07</td>\n",
       "      <td>22000778</td>\n",
       "      <td>Final</td>\n",
       "      <td>1610612738</td>\n",
       "      <td>1610612752</td>\n",
       "      <td>2020</td>\n",
       "      <td>1610612738</td>\n",
       "      <td>101.0</td>\n",
       "      <td>0.419</td>\n",
       "      <td>0.700</td>\n",
       "      <td>...</td>\n",
       "      <td>0.417</td>\n",
       "      <td>0.813</td>\n",
       "      <td>0.485</td>\n",
       "      <td>22.0</td>\n",
       "      <td>39.0</td>\n",
       "      <td>1</td>\n",
       "      <td>1610612738</td>\n",
       "      <td>Celtics</td>\n",
       "      <td>1610612752</td>\n",
       "      <td>Knicks</td>\n",
       "    </tr>\n",
       "    <tr>\n",
       "      <th>1076</th>\n",
       "      <td>2021-01-17</td>\n",
       "      <td>22000196</td>\n",
       "      <td>Final</td>\n",
       "      <td>1610612738</td>\n",
       "      <td>1610612752</td>\n",
       "      <td>2020</td>\n",
       "      <td>1610612738</td>\n",
       "      <td>75.0</td>\n",
       "      <td>0.298</td>\n",
       "      <td>0.621</td>\n",
       "      <td>...</td>\n",
       "      <td>0.475</td>\n",
       "      <td>0.810</td>\n",
       "      <td>0.387</td>\n",
       "      <td>22.0</td>\n",
       "      <td>53.0</td>\n",
       "      <td>0</td>\n",
       "      <td>1610612738</td>\n",
       "      <td>Celtics</td>\n",
       "      <td>1610612752</td>\n",
       "      <td>Knicks</td>\n",
       "    </tr>\n",
       "    <tr>\n",
       "      <th>1077</th>\n",
       "      <td>2021-05-09</td>\n",
       "      <td>22001019</td>\n",
       "      <td>Final</td>\n",
       "      <td>1610612746</td>\n",
       "      <td>1610612752</td>\n",
       "      <td>2020</td>\n",
       "      <td>1610612746</td>\n",
       "      <td>100.0</td>\n",
       "      <td>0.430</td>\n",
       "      <td>0.875</td>\n",
       "      <td>...</td>\n",
       "      <td>0.467</td>\n",
       "      <td>1.000</td>\n",
       "      <td>0.406</td>\n",
       "      <td>25.0</td>\n",
       "      <td>45.0</td>\n",
       "      <td>0</td>\n",
       "      <td>1610612746</td>\n",
       "      <td>Clippers</td>\n",
       "      <td>1610612752</td>\n",
       "      <td>Knicks</td>\n",
       "    </tr>\n",
       "    <tr>\n",
       "      <th>1078</th>\n",
       "      <td>2021-02-17</td>\n",
       "      <td>22000436</td>\n",
       "      <td>Final</td>\n",
       "      <td>1610612753</td>\n",
       "      <td>1610612752</td>\n",
       "      <td>2020</td>\n",
       "      <td>1610612753</td>\n",
       "      <td>107.0</td>\n",
       "      <td>0.457</td>\n",
       "      <td>0.700</td>\n",
       "      <td>...</td>\n",
       "      <td>0.379</td>\n",
       "      <td>0.842</td>\n",
       "      <td>0.259</td>\n",
       "      <td>16.0</td>\n",
       "      <td>46.0</td>\n",
       "      <td>1</td>\n",
       "      <td>1610612753</td>\n",
       "      <td>Magic</td>\n",
       "      <td>1610612752</td>\n",
       "      <td>Knicks</td>\n",
       "    </tr>\n",
       "    <tr>\n",
       "      <th>1079</th>\n",
       "      <td>2021-05-05</td>\n",
       "      <td>22000995</td>\n",
       "      <td>Final</td>\n",
       "      <td>1610612743</td>\n",
       "      <td>1610612752</td>\n",
       "      <td>2020</td>\n",
       "      <td>1610612743</td>\n",
       "      <td>113.0</td>\n",
       "      <td>0.381</td>\n",
       "      <td>0.818</td>\n",
       "      <td>...</td>\n",
       "      <td>0.384</td>\n",
       "      <td>0.667</td>\n",
       "      <td>0.371</td>\n",
       "      <td>18.0</td>\n",
       "      <td>42.0</td>\n",
       "      <td>1</td>\n",
       "      <td>1610612743</td>\n",
       "      <td>Nuggets</td>\n",
       "      <td>1610612752</td>\n",
       "      <td>Knicks</td>\n",
       "    </tr>\n",
       "  </tbody>\n",
       "</table>\n",
       "<p>1080 rows × 25 columns</p>\n",
       "</div>"
      ],
      "text/plain": [
       "     GAME_DATE_EST   GAME_ID GAME_STATUS_TEXT  HOME_TEAM_ID  VISITOR_TEAM_ID  \\\n",
       "0       2021-05-16  22001073            Final    1610612752       1610612738   \n",
       "1       2021-01-04  22000097            Final    1610612761       1610612738   \n",
       "2       2021-02-14  22000560            Final    1610612764       1610612738   \n",
       "3       2021-01-27  22000280            Final    1610612759       1610612738   \n",
       "4       2021-02-02  22000326            Final    1610612744       1610612738   \n",
       "...            ...       ...              ...           ...              ...   \n",
       "1075    2021-04-07  22000778            Final    1610612738       1610612752   \n",
       "1076    2021-01-17  22000196            Final    1610612738       1610612752   \n",
       "1077    2021-05-09  22001019            Final    1610612746       1610612752   \n",
       "1078    2021-02-17  22000436            Final    1610612753       1610612752   \n",
       "1079    2021-05-05  22000995            Final    1610612743       1610612752   \n",
       "\n",
       "      SEASON  TEAM_ID_home  PTS_home  FG_PCT_home  FT_PCT_home  ...  \\\n",
       "0       2020    1610612752      96.0        0.430        0.789  ...   \n",
       "1       2020    1610612761     114.0        0.400        0.763  ...   \n",
       "2       2020    1610612764     104.0        0.398        0.861  ...   \n",
       "3       2020    1610612759     110.0        0.561        0.625  ...   \n",
       "4       2020    1610612744     107.0        0.458        0.696  ...   \n",
       "...      ...           ...       ...          ...          ...  ...   \n",
       "1075    2020    1610612738     101.0        0.419        0.700  ...   \n",
       "1076    2020    1610612738      75.0        0.298        0.621  ...   \n",
       "1077    2020    1610612746     100.0        0.430        0.875  ...   \n",
       "1078    2020    1610612753     107.0        0.457        0.700  ...   \n",
       "1079    2020    1610612743     113.0        0.381        0.818  ...   \n",
       "\n",
       "      FG_PCT_away  FT_PCT_away  FG3_PCT_away  AST_away  REB_away  \\\n",
       "0           0.407        0.733         0.268      19.0      46.0   \n",
       "1           0.488        0.853         0.517      19.0      56.0   \n",
       "2           0.356        0.600         0.257      14.0      50.0   \n",
       "3           0.429        0.857         0.333      15.0      39.0   \n",
       "4           0.464        0.741         0.382      16.0      51.0   \n",
       "...           ...          ...           ...       ...       ...   \n",
       "1075        0.417        0.813         0.485      22.0      39.0   \n",
       "1076        0.475        0.810         0.387      22.0      53.0   \n",
       "1077        0.467        1.000         0.406      25.0      45.0   \n",
       "1078        0.379        0.842         0.259      16.0      46.0   \n",
       "1079        0.384        0.667         0.371      18.0      42.0   \n",
       "\n",
       "      HOME_TEAM_WINS   TEAM_ID_x  NICKNAME_x   TEAM_ID_y  NICKNAME_y  \n",
       "0                  1  1610612752      Knicks  1610612738     Celtics  \n",
       "1                  0  1610612761     Raptors  1610612738     Celtics  \n",
       "2                  1  1610612764     Wizards  1610612738     Celtics  \n",
       "3                  1  1610612759       Spurs  1610612738     Celtics  \n",
       "4                  0  1610612744    Warriors  1610612738     Celtics  \n",
       "...              ...         ...         ...         ...         ...  \n",
       "1075               1  1610612738     Celtics  1610612752      Knicks  \n",
       "1076               0  1610612738     Celtics  1610612752      Knicks  \n",
       "1077               0  1610612746    Clippers  1610612752      Knicks  \n",
       "1078               1  1610612753       Magic  1610612752      Knicks  \n",
       "1079               1  1610612743     Nuggets  1610612752      Knicks  \n",
       "\n",
       "[1080 rows x 25 columns]"
      ]
     },
     "execution_count": 31,
     "metadata": {},
     "output_type": "execute_result"
    }
   ],
   "source": [
    "H = REGSEASON.merge(Teams[['TEAM_ID','NICKNAME']],left_on=['HOME_TEAM_ID'],right_on=['TEAM_ID'])\n",
    "A = H.merge(Teams[['TEAM_ID','NICKNAME']],left_on=['VISITOR_TEAM_ID'],right_on=['TEAM_ID'])\n",
    "A"
   ]
  },
  {
   "cell_type": "code",
   "execution_count": 32,
   "metadata": {},
   "outputs": [],
   "source": [
    "B = A.drop(['TEAM_ID_x','TEAM_ID_y','GAME_STATUS_TEXT','HOME_TEAM_ID',\n",
    "       'VISITOR_TEAM_ID','SEASON', 'TEAM_ID_home','TEAM_ID_away'],axis=1)"
   ]
  },
  {
   "cell_type": "code",
   "execution_count": 33,
   "metadata": {},
   "outputs": [],
   "source": [
    "B.rename(columns={'NICKNAME_x':'Home','NICKNAME_y':'Away'},inplace=True)\n",
    "B = B[['GAME_DATE_EST', 'GAME_ID','Home', 'Away','PTS_home', 'FG_PCT_home', 'FT_PCT_home',\n",
    "       'FG3_PCT_home', 'AST_home', 'REB_home', 'PTS_away', 'FG_PCT_away',\n",
    "       'FT_PCT_away', 'FG3_PCT_away', 'AST_away', 'REB_away','HOME_TEAM_WINS']]"
   ]
  },
  {
   "cell_type": "code",
   "execution_count": 34,
   "metadata": {},
   "outputs": [],
   "source": [
    "SemiDF = Vegas_Final.merge(B,left_on=['Home_Team','Visitor_Team','Visitor_Score','Home_Score'],right_on=['Home','Away',\n",
    "                                                                                                          'PTS_away','PTS_home'])"
   ]
  },
  {
   "cell_type": "code",
   "execution_count": 35,
   "metadata": {},
   "outputs": [],
   "source": [
    "FinalDF = SemiDF.drop(columns=[\n",
    "         'Home','Away','HOpen', 'HClose', 'VOpen', 'VClose','OSpreadWin', 'CSpreadWin',\n",
    "       'HOME_TEAM_WINS'])"
   ]
  },
  {
   "cell_type": "code",
   "execution_count": 36,
   "metadata": {},
   "outputs": [
    {
     "data": {
      "text/html": [
       "<div>\n",
       "<style scoped>\n",
       "    .dataframe tbody tr th:only-of-type {\n",
       "        vertical-align: middle;\n",
       "    }\n",
       "\n",
       "    .dataframe tbody tr th {\n",
       "        vertical-align: top;\n",
       "    }\n",
       "\n",
       "    .dataframe thead th {\n",
       "        text-align: right;\n",
       "    }\n",
       "</style>\n",
       "<table border=\"1\" class=\"dataframe\">\n",
       "  <thead>\n",
       "    <tr style=\"text-align: right;\">\n",
       "      <th></th>\n",
       "      <th>Home_Team</th>\n",
       "      <th>Visitor_Team</th>\n",
       "      <th>Home_Score</th>\n",
       "      <th>Visitor_Score</th>\n",
       "      <th>OSpread</th>\n",
       "      <th>CSpread</th>\n",
       "      <th>PointDiff</th>\n",
       "      <th>Home_Win</th>\n",
       "      <th>SpreadW</th>\n",
       "      <th>GAME_ID</th>\n",
       "      <th>...</th>\n",
       "      <th>FT_PCT_home</th>\n",
       "      <th>FG3_PCT_home</th>\n",
       "      <th>AST_home</th>\n",
       "      <th>REB_home</th>\n",
       "      <th>PTS_away</th>\n",
       "      <th>FG_PCT_away</th>\n",
       "      <th>FT_PCT_away</th>\n",
       "      <th>FG3_PCT_away</th>\n",
       "      <th>AST_away</th>\n",
       "      <th>REB_away</th>\n",
       "    </tr>\n",
       "    <tr>\n",
       "      <th>GAME_DATE_EST</th>\n",
       "      <th></th>\n",
       "      <th></th>\n",
       "      <th></th>\n",
       "      <th></th>\n",
       "      <th></th>\n",
       "      <th></th>\n",
       "      <th></th>\n",
       "      <th></th>\n",
       "      <th></th>\n",
       "      <th></th>\n",
       "      <th></th>\n",
       "      <th></th>\n",
       "      <th></th>\n",
       "      <th></th>\n",
       "      <th></th>\n",
       "      <th></th>\n",
       "      <th></th>\n",
       "      <th></th>\n",
       "      <th></th>\n",
       "      <th></th>\n",
       "      <th></th>\n",
       "    </tr>\n",
       "  </thead>\n",
       "  <tbody>\n",
       "    <tr>\n",
       "      <th>2020-12-22</th>\n",
       "      <td>Nets</td>\n",
       "      <td>Warriors</td>\n",
       "      <td>125</td>\n",
       "      <td>99</td>\n",
       "      <td>5.5</td>\n",
       "      <td>7.5</td>\n",
       "      <td>26</td>\n",
       "      <td>1</td>\n",
       "      <td>1</td>\n",
       "      <td>22000001</td>\n",
       "      <td>...</td>\n",
       "      <td>0.813</td>\n",
       "      <td>0.429</td>\n",
       "      <td>24.0</td>\n",
       "      <td>57.0</td>\n",
       "      <td>99.0</td>\n",
       "      <td>0.374</td>\n",
       "      <td>0.652</td>\n",
       "      <td>0.303</td>\n",
       "      <td>26.0</td>\n",
       "      <td>47.0</td>\n",
       "    </tr>\n",
       "    <tr>\n",
       "      <th>2020-12-22</th>\n",
       "      <td>Lakers</td>\n",
       "      <td>Clippers</td>\n",
       "      <td>109</td>\n",
       "      <td>116</td>\n",
       "      <td>2.5</td>\n",
       "      <td>2.0</td>\n",
       "      <td>-7</td>\n",
       "      <td>0</td>\n",
       "      <td>0</td>\n",
       "      <td>22000002</td>\n",
       "      <td>...</td>\n",
       "      <td>0.774</td>\n",
       "      <td>0.310</td>\n",
       "      <td>22.0</td>\n",
       "      <td>45.0</td>\n",
       "      <td>116.0</td>\n",
       "      <td>0.473</td>\n",
       "      <td>0.737</td>\n",
       "      <td>0.350</td>\n",
       "      <td>22.0</td>\n",
       "      <td>40.0</td>\n",
       "    </tr>\n",
       "    <tr>\n",
       "      <th>2020-12-23</th>\n",
       "      <td>Cavaliers</td>\n",
       "      <td>Hornets</td>\n",
       "      <td>121</td>\n",
       "      <td>114</td>\n",
       "      <td>1.0</td>\n",
       "      <td>-3.0</td>\n",
       "      <td>7</td>\n",
       "      <td>1</td>\n",
       "      <td>1</td>\n",
       "      <td>22000010</td>\n",
       "      <td>...</td>\n",
       "      <td>0.750</td>\n",
       "      <td>0.467</td>\n",
       "      <td>34.0</td>\n",
       "      <td>50.0</td>\n",
       "      <td>114.0</td>\n",
       "      <td>0.500</td>\n",
       "      <td>0.533</td>\n",
       "      <td>0.364</td>\n",
       "      <td>29.0</td>\n",
       "      <td>32.0</td>\n",
       "    </tr>\n",
       "    <tr>\n",
       "      <th>2020-12-23</th>\n",
       "      <td>Pacers</td>\n",
       "      <td>Knicks</td>\n",
       "      <td>121</td>\n",
       "      <td>107</td>\n",
       "      <td>8.5</td>\n",
       "      <td>7.5</td>\n",
       "      <td>14</td>\n",
       "      <td>1</td>\n",
       "      <td>1</td>\n",
       "      <td>22000011</td>\n",
       "      <td>...</td>\n",
       "      <td>0.724</td>\n",
       "      <td>0.235</td>\n",
       "      <td>28.0</td>\n",
       "      <td>50.0</td>\n",
       "      <td>107.0</td>\n",
       "      <td>0.459</td>\n",
       "      <td>0.739</td>\n",
       "      <td>0.429</td>\n",
       "      <td>25.0</td>\n",
       "      <td>40.0</td>\n",
       "    </tr>\n",
       "    <tr>\n",
       "      <th>2020-12-23</th>\n",
       "      <td>Magic</td>\n",
       "      <td>Heat</td>\n",
       "      <td>113</td>\n",
       "      <td>107</td>\n",
       "      <td>-3.5</td>\n",
       "      <td>-4.5</td>\n",
       "      <td>6</td>\n",
       "      <td>1</td>\n",
       "      <td>1</td>\n",
       "      <td>22000012</td>\n",
       "      <td>...</td>\n",
       "      <td>0.633</td>\n",
       "      <td>0.357</td>\n",
       "      <td>23.0</td>\n",
       "      <td>41.0</td>\n",
       "      <td>107.0</td>\n",
       "      <td>0.506</td>\n",
       "      <td>0.842</td>\n",
       "      <td>0.350</td>\n",
       "      <td>25.0</td>\n",
       "      <td>43.0</td>\n",
       "    </tr>\n",
       "    <tr>\n",
       "      <th>...</th>\n",
       "      <td>...</td>\n",
       "      <td>...</td>\n",
       "      <td>...</td>\n",
       "      <td>...</td>\n",
       "      <td>...</td>\n",
       "      <td>...</td>\n",
       "      <td>...</td>\n",
       "      <td>...</td>\n",
       "      <td>...</td>\n",
       "      <td>...</td>\n",
       "      <td>...</td>\n",
       "      <td>...</td>\n",
       "      <td>...</td>\n",
       "      <td>...</td>\n",
       "      <td>...</td>\n",
       "      <td>...</td>\n",
       "      <td>...</td>\n",
       "      <td>...</td>\n",
       "      <td>...</td>\n",
       "      <td>...</td>\n",
       "      <td>...</td>\n",
       "    </tr>\n",
       "    <tr>\n",
       "      <th>2021-05-16</th>\n",
       "      <td>Trail Blazers</td>\n",
       "      <td>Nuggets</td>\n",
       "      <td>132</td>\n",
       "      <td>116</td>\n",
       "      <td>8.5</td>\n",
       "      <td>8.5</td>\n",
       "      <td>16</td>\n",
       "      <td>1</td>\n",
       "      <td>1</td>\n",
       "      <td>22001076</td>\n",
       "      <td>...</td>\n",
       "      <td>0.846</td>\n",
       "      <td>0.419</td>\n",
       "      <td>24.0</td>\n",
       "      <td>51.0</td>\n",
       "      <td>116.0</td>\n",
       "      <td>0.449</td>\n",
       "      <td>0.933</td>\n",
       "      <td>0.378</td>\n",
       "      <td>20.0</td>\n",
       "      <td>36.0</td>\n",
       "    </tr>\n",
       "    <tr>\n",
       "      <th>2021-05-16</th>\n",
       "      <td>Bulls</td>\n",
       "      <td>Bucks</td>\n",
       "      <td>118</td>\n",
       "      <td>112</td>\n",
       "      <td>-2.5</td>\n",
       "      <td>-7.0</td>\n",
       "      <td>6</td>\n",
       "      <td>1</td>\n",
       "      <td>1</td>\n",
       "      <td>22001068</td>\n",
       "      <td>...</td>\n",
       "      <td>0.737</td>\n",
       "      <td>0.438</td>\n",
       "      <td>23.0</td>\n",
       "      <td>45.0</td>\n",
       "      <td>112.0</td>\n",
       "      <td>0.422</td>\n",
       "      <td>0.750</td>\n",
       "      <td>0.324</td>\n",
       "      <td>14.0</td>\n",
       "      <td>41.0</td>\n",
       "    </tr>\n",
       "    <tr>\n",
       "      <th>2021-05-16</th>\n",
       "      <td>Wizards</td>\n",
       "      <td>Hornets</td>\n",
       "      <td>115</td>\n",
       "      <td>110</td>\n",
       "      <td>6.5</td>\n",
       "      <td>7.0</td>\n",
       "      <td>5</td>\n",
       "      <td>1</td>\n",
       "      <td>0</td>\n",
       "      <td>22001080</td>\n",
       "      <td>...</td>\n",
       "      <td>0.810</td>\n",
       "      <td>0.323</td>\n",
       "      <td>22.0</td>\n",
       "      <td>53.0</td>\n",
       "      <td>110.0</td>\n",
       "      <td>0.394</td>\n",
       "      <td>0.917</td>\n",
       "      <td>0.311</td>\n",
       "      <td>25.0</td>\n",
       "      <td>42.0</td>\n",
       "    </tr>\n",
       "    <tr>\n",
       "      <th>2021-05-16</th>\n",
       "      <td>Knicks</td>\n",
       "      <td>Celtics</td>\n",
       "      <td>96</td>\n",
       "      <td>92</td>\n",
       "      <td>8.5</td>\n",
       "      <td>12.0</td>\n",
       "      <td>4</td>\n",
       "      <td>1</td>\n",
       "      <td>0</td>\n",
       "      <td>22001073</td>\n",
       "      <td>...</td>\n",
       "      <td>0.789</td>\n",
       "      <td>0.481</td>\n",
       "      <td>16.0</td>\n",
       "      <td>41.0</td>\n",
       "      <td>92.0</td>\n",
       "      <td>0.407</td>\n",
       "      <td>0.733</td>\n",
       "      <td>0.268</td>\n",
       "      <td>19.0</td>\n",
       "      <td>46.0</td>\n",
       "    </tr>\n",
       "    <tr>\n",
       "      <th>2021-05-16</th>\n",
       "      <td>Raptors</td>\n",
       "      <td>Pacers</td>\n",
       "      <td>113</td>\n",
       "      <td>125</td>\n",
       "      <td>-7.0</td>\n",
       "      <td>-6.0</td>\n",
       "      <td>-12</td>\n",
       "      <td>0</td>\n",
       "      <td>0</td>\n",
       "      <td>22001079</td>\n",
       "      <td>...</td>\n",
       "      <td>0.793</td>\n",
       "      <td>0.316</td>\n",
       "      <td>21.0</td>\n",
       "      <td>48.0</td>\n",
       "      <td>125.0</td>\n",
       "      <td>0.505</td>\n",
       "      <td>0.778</td>\n",
       "      <td>0.405</td>\n",
       "      <td>34.0</td>\n",
       "      <td>47.0</td>\n",
       "    </tr>\n",
       "  </tbody>\n",
       "</table>\n",
       "<p>1080 rows × 22 columns</p>\n",
       "</div>"
      ],
      "text/plain": [
       "                   Home_Team Visitor_Team  Home_Score  Visitor_Score  OSpread  \\\n",
       "GAME_DATE_EST                                                                   \n",
       "2020-12-22              Nets     Warriors         125             99      5.5   \n",
       "2020-12-22            Lakers     Clippers         109            116      2.5   \n",
       "2020-12-23         Cavaliers      Hornets         121            114      1.0   \n",
       "2020-12-23            Pacers       Knicks         121            107      8.5   \n",
       "2020-12-23             Magic         Heat         113            107     -3.5   \n",
       "...                      ...          ...         ...            ...      ...   \n",
       "2021-05-16     Trail Blazers      Nuggets         132            116      8.5   \n",
       "2021-05-16             Bulls        Bucks         118            112     -2.5   \n",
       "2021-05-16           Wizards      Hornets         115            110      6.5   \n",
       "2021-05-16            Knicks      Celtics          96             92      8.5   \n",
       "2021-05-16           Raptors       Pacers         113            125     -7.0   \n",
       "\n",
       "               CSpread  PointDiff  Home_Win  SpreadW   GAME_ID  ...  \\\n",
       "GAME_DATE_EST                                                   ...   \n",
       "2020-12-22         7.5         26         1        1  22000001  ...   \n",
       "2020-12-22         2.0         -7         0        0  22000002  ...   \n",
       "2020-12-23        -3.0          7         1        1  22000010  ...   \n",
       "2020-12-23         7.5         14         1        1  22000011  ...   \n",
       "2020-12-23        -4.5          6         1        1  22000012  ...   \n",
       "...                ...        ...       ...      ...       ...  ...   \n",
       "2021-05-16         8.5         16         1        1  22001076  ...   \n",
       "2021-05-16        -7.0          6         1        1  22001068  ...   \n",
       "2021-05-16         7.0          5         1        0  22001080  ...   \n",
       "2021-05-16        12.0          4         1        0  22001073  ...   \n",
       "2021-05-16        -6.0        -12         0        0  22001079  ...   \n",
       "\n",
       "               FT_PCT_home  FG3_PCT_home  AST_home  REB_home  PTS_away  \\\n",
       "GAME_DATE_EST                                                            \n",
       "2020-12-22           0.813         0.429      24.0      57.0      99.0   \n",
       "2020-12-22           0.774         0.310      22.0      45.0     116.0   \n",
       "2020-12-23           0.750         0.467      34.0      50.0     114.0   \n",
       "2020-12-23           0.724         0.235      28.0      50.0     107.0   \n",
       "2020-12-23           0.633         0.357      23.0      41.0     107.0   \n",
       "...                    ...           ...       ...       ...       ...   \n",
       "2021-05-16           0.846         0.419      24.0      51.0     116.0   \n",
       "2021-05-16           0.737         0.438      23.0      45.0     112.0   \n",
       "2021-05-16           0.810         0.323      22.0      53.0     110.0   \n",
       "2021-05-16           0.789         0.481      16.0      41.0      92.0   \n",
       "2021-05-16           0.793         0.316      21.0      48.0     125.0   \n",
       "\n",
       "               FG_PCT_away  FT_PCT_away  FG3_PCT_away  AST_away  REB_away  \n",
       "GAME_DATE_EST                                                              \n",
       "2020-12-22           0.374        0.652         0.303      26.0      47.0  \n",
       "2020-12-22           0.473        0.737         0.350      22.0      40.0  \n",
       "2020-12-23           0.500        0.533         0.364      29.0      32.0  \n",
       "2020-12-23           0.459        0.739         0.429      25.0      40.0  \n",
       "2020-12-23           0.506        0.842         0.350      25.0      43.0  \n",
       "...                    ...          ...           ...       ...       ...  \n",
       "2021-05-16           0.449        0.933         0.378      20.0      36.0  \n",
       "2021-05-16           0.422        0.750         0.324      14.0      41.0  \n",
       "2021-05-16           0.394        0.917         0.311      25.0      42.0  \n",
       "2021-05-16           0.407        0.733         0.268      19.0      46.0  \n",
       "2021-05-16           0.505        0.778         0.405      34.0      47.0  \n",
       "\n",
       "[1080 rows x 22 columns]"
      ]
     },
     "execution_count": 36,
     "metadata": {},
     "output_type": "execute_result"
    }
   ],
   "source": [
    "FinalDF['GAME_DATE_EST'] = pd.to_datetime(FinalDF['GAME_DATE_EST'])\n",
    "FinalDF.set_index('GAME_DATE_EST')"
   ]
  },
  {
   "cell_type": "markdown",
   "metadata": {},
   "source": [
    "# EDA"
   ]
  },
  {
   "cell_type": "code",
   "execution_count": 37,
   "metadata": {},
   "outputs": [
    {
     "data": {
      "text/html": [
       "<div>\n",
       "<style scoped>\n",
       "    .dataframe tbody tr th:only-of-type {\n",
       "        vertical-align: middle;\n",
       "    }\n",
       "\n",
       "    .dataframe tbody tr th {\n",
       "        vertical-align: top;\n",
       "    }\n",
       "\n",
       "    .dataframe thead th {\n",
       "        text-align: right;\n",
       "    }\n",
       "</style>\n",
       "<table border=\"1\" class=\"dataframe\">\n",
       "  <thead>\n",
       "    <tr style=\"text-align: right;\">\n",
       "      <th></th>\n",
       "      <th>Home_Score</th>\n",
       "      <th>Visitor_Score</th>\n",
       "      <th>OSpread</th>\n",
       "      <th>CSpread</th>\n",
       "      <th>PointDiff</th>\n",
       "      <th>Home_Win</th>\n",
       "      <th>SpreadW</th>\n",
       "      <th>GAME_ID</th>\n",
       "      <th>PTS_home</th>\n",
       "      <th>FG_PCT_home</th>\n",
       "      <th>FT_PCT_home</th>\n",
       "      <th>FG3_PCT_home</th>\n",
       "      <th>AST_home</th>\n",
       "      <th>REB_home</th>\n",
       "      <th>PTS_away</th>\n",
       "      <th>FG_PCT_away</th>\n",
       "      <th>FT_PCT_away</th>\n",
       "      <th>FG3_PCT_away</th>\n",
       "      <th>AST_away</th>\n",
       "      <th>REB_away</th>\n",
       "    </tr>\n",
       "  </thead>\n",
       "  <tbody>\n",
       "    <tr>\n",
       "      <th>count</th>\n",
       "      <td>1080.000000</td>\n",
       "      <td>1080.000000</td>\n",
       "      <td>1080.000000</td>\n",
       "      <td>1080.000000</td>\n",
       "      <td>1080.000000</td>\n",
       "      <td>1080.000000</td>\n",
       "      <td>1080.000000</td>\n",
       "      <td>1.080000e+03</td>\n",
       "      <td>1080.000000</td>\n",
       "      <td>1080.000000</td>\n",
       "      <td>1080.000000</td>\n",
       "      <td>1080.000000</td>\n",
       "      <td>1080.000000</td>\n",
       "      <td>1080.000000</td>\n",
       "      <td>1080.000000</td>\n",
       "      <td>1080.000000</td>\n",
       "      <td>1080.000000</td>\n",
       "      <td>1080.000000</td>\n",
       "      <td>1080.000000</td>\n",
       "      <td>1080.000000</td>\n",
       "    </tr>\n",
       "    <tr>\n",
       "      <th>mean</th>\n",
       "      <td>112.562963</td>\n",
       "      <td>111.619444</td>\n",
       "      <td>1.415278</td>\n",
       "      <td>1.229167</td>\n",
       "      <td>0.943519</td>\n",
       "      <td>0.543519</td>\n",
       "      <td>0.462963</td>\n",
       "      <td>2.200054e+07</td>\n",
       "      <td>112.562963</td>\n",
       "      <td>0.468882</td>\n",
       "      <td>0.779627</td>\n",
       "      <td>0.368510</td>\n",
       "      <td>24.974074</td>\n",
       "      <td>44.716667</td>\n",
       "      <td>111.619444</td>\n",
       "      <td>0.464963</td>\n",
       "      <td>0.777484</td>\n",
       "      <td>0.362280</td>\n",
       "      <td>24.634259</td>\n",
       "      <td>43.879630</td>\n",
       "    </tr>\n",
       "    <tr>\n",
       "      <th>std</th>\n",
       "      <td>12.454987</td>\n",
       "      <td>12.546728</td>\n",
       "      <td>6.407501</td>\n",
       "      <td>6.580297</td>\n",
       "      <td>15.184365</td>\n",
       "      <td>0.498333</td>\n",
       "      <td>0.498857</td>\n",
       "      <td>3.119134e+02</td>\n",
       "      <td>12.454987</td>\n",
       "      <td>0.054863</td>\n",
       "      <td>0.101963</td>\n",
       "      <td>0.084751</td>\n",
       "      <td>4.970466</td>\n",
       "      <td>6.390106</td>\n",
       "      <td>12.546728</td>\n",
       "      <td>0.053323</td>\n",
       "      <td>0.103558</td>\n",
       "      <td>0.086011</td>\n",
       "      <td>4.960692</td>\n",
       "      <td>6.378279</td>\n",
       "    </tr>\n",
       "    <tr>\n",
       "      <th>min</th>\n",
       "      <td>73.000000</td>\n",
       "      <td>75.000000</td>\n",
       "      <td>-14.500000</td>\n",
       "      <td>-15.000000</td>\n",
       "      <td>-57.000000</td>\n",
       "      <td>0.000000</td>\n",
       "      <td>0.000000</td>\n",
       "      <td>2.200000e+07</td>\n",
       "      <td>73.000000</td>\n",
       "      <td>0.277000</td>\n",
       "      <td>0.333000</td>\n",
       "      <td>0.089000</td>\n",
       "      <td>10.000000</td>\n",
       "      <td>24.000000</td>\n",
       "      <td>75.000000</td>\n",
       "      <td>0.314000</td>\n",
       "      <td>0.316000</td>\n",
       "      <td>0.083000</td>\n",
       "      <td>10.000000</td>\n",
       "      <td>27.000000</td>\n",
       "    </tr>\n",
       "    <tr>\n",
       "      <th>25%</th>\n",
       "      <td>104.000000</td>\n",
       "      <td>103.000000</td>\n",
       "      <td>-4.000000</td>\n",
       "      <td>-4.000000</td>\n",
       "      <td>-9.000000</td>\n",
       "      <td>0.000000</td>\n",
       "      <td>0.000000</td>\n",
       "      <td>2.200027e+07</td>\n",
       "      <td>104.000000</td>\n",
       "      <td>0.430000</td>\n",
       "      <td>0.717750</td>\n",
       "      <td>0.313000</td>\n",
       "      <td>22.000000</td>\n",
       "      <td>40.000000</td>\n",
       "      <td>103.000000</td>\n",
       "      <td>0.427000</td>\n",
       "      <td>0.714000</td>\n",
       "      <td>0.308000</td>\n",
       "      <td>21.000000</td>\n",
       "      <td>39.000000</td>\n",
       "    </tr>\n",
       "    <tr>\n",
       "      <th>50%</th>\n",
       "      <td>112.000000</td>\n",
       "      <td>111.000000</td>\n",
       "      <td>2.500000</td>\n",
       "      <td>2.000000</td>\n",
       "      <td>2.000000</td>\n",
       "      <td>1.000000</td>\n",
       "      <td>0.000000</td>\n",
       "      <td>2.200054e+07</td>\n",
       "      <td>112.000000</td>\n",
       "      <td>0.468000</td>\n",
       "      <td>0.786000</td>\n",
       "      <td>0.368000</td>\n",
       "      <td>25.000000</td>\n",
       "      <td>45.000000</td>\n",
       "      <td>111.000000</td>\n",
       "      <td>0.464000</td>\n",
       "      <td>0.783000</td>\n",
       "      <td>0.359000</td>\n",
       "      <td>25.000000</td>\n",
       "      <td>44.000000</td>\n",
       "    </tr>\n",
       "    <tr>\n",
       "      <th>75%</th>\n",
       "      <td>121.000000</td>\n",
       "      <td>120.000000</td>\n",
       "      <td>6.500000</td>\n",
       "      <td>6.500000</td>\n",
       "      <td>11.000000</td>\n",
       "      <td>1.000000</td>\n",
       "      <td>1.000000</td>\n",
       "      <td>2.200081e+07</td>\n",
       "      <td>121.000000</td>\n",
       "      <td>0.506000</td>\n",
       "      <td>0.846000</td>\n",
       "      <td>0.429000</td>\n",
       "      <td>28.000000</td>\n",
       "      <td>49.000000</td>\n",
       "      <td>120.000000</td>\n",
       "      <td>0.500000</td>\n",
       "      <td>0.850500</td>\n",
       "      <td>0.421250</td>\n",
       "      <td>28.000000</td>\n",
       "      <td>48.000000</td>\n",
       "    </tr>\n",
       "    <tr>\n",
       "      <th>max</th>\n",
       "      <td>154.000000</td>\n",
       "      <td>154.000000</td>\n",
       "      <td>17.000000</td>\n",
       "      <td>19.000000</td>\n",
       "      <td>53.000000</td>\n",
       "      <td>1.000000</td>\n",
       "      <td>1.000000</td>\n",
       "      <td>2.200108e+07</td>\n",
       "      <td>154.000000</td>\n",
       "      <td>0.654000</td>\n",
       "      <td>1.000000</td>\n",
       "      <td>0.645000</td>\n",
       "      <td>50.000000</td>\n",
       "      <td>70.000000</td>\n",
       "      <td>154.000000</td>\n",
       "      <td>0.655000</td>\n",
       "      <td>1.000000</td>\n",
       "      <td>0.636000</td>\n",
       "      <td>41.000000</td>\n",
       "      <td>65.000000</td>\n",
       "    </tr>\n",
       "  </tbody>\n",
       "</table>\n",
       "</div>"
      ],
      "text/plain": [
       "        Home_Score  Visitor_Score      OSpread      CSpread    PointDiff  \\\n",
       "count  1080.000000    1080.000000  1080.000000  1080.000000  1080.000000   \n",
       "mean    112.562963     111.619444     1.415278     1.229167     0.943519   \n",
       "std      12.454987      12.546728     6.407501     6.580297    15.184365   \n",
       "min      73.000000      75.000000   -14.500000   -15.000000   -57.000000   \n",
       "25%     104.000000     103.000000    -4.000000    -4.000000    -9.000000   \n",
       "50%     112.000000     111.000000     2.500000     2.000000     2.000000   \n",
       "75%     121.000000     120.000000     6.500000     6.500000    11.000000   \n",
       "max     154.000000     154.000000    17.000000    19.000000    53.000000   \n",
       "\n",
       "          Home_Win      SpreadW       GAME_ID     PTS_home  FG_PCT_home  \\\n",
       "count  1080.000000  1080.000000  1.080000e+03  1080.000000  1080.000000   \n",
       "mean      0.543519     0.462963  2.200054e+07   112.562963     0.468882   \n",
       "std       0.498333     0.498857  3.119134e+02    12.454987     0.054863   \n",
       "min       0.000000     0.000000  2.200000e+07    73.000000     0.277000   \n",
       "25%       0.000000     0.000000  2.200027e+07   104.000000     0.430000   \n",
       "50%       1.000000     0.000000  2.200054e+07   112.000000     0.468000   \n",
       "75%       1.000000     1.000000  2.200081e+07   121.000000     0.506000   \n",
       "max       1.000000     1.000000  2.200108e+07   154.000000     0.654000   \n",
       "\n",
       "       FT_PCT_home  FG3_PCT_home     AST_home     REB_home     PTS_away  \\\n",
       "count  1080.000000   1080.000000  1080.000000  1080.000000  1080.000000   \n",
       "mean      0.779627      0.368510    24.974074    44.716667   111.619444   \n",
       "std       0.101963      0.084751     4.970466     6.390106    12.546728   \n",
       "min       0.333000      0.089000    10.000000    24.000000    75.000000   \n",
       "25%       0.717750      0.313000    22.000000    40.000000   103.000000   \n",
       "50%       0.786000      0.368000    25.000000    45.000000   111.000000   \n",
       "75%       0.846000      0.429000    28.000000    49.000000   120.000000   \n",
       "max       1.000000      0.645000    50.000000    70.000000   154.000000   \n",
       "\n",
       "       FG_PCT_away  FT_PCT_away  FG3_PCT_away     AST_away     REB_away  \n",
       "count  1080.000000  1080.000000   1080.000000  1080.000000  1080.000000  \n",
       "mean      0.464963     0.777484      0.362280    24.634259    43.879630  \n",
       "std       0.053323     0.103558      0.086011     4.960692     6.378279  \n",
       "min       0.314000     0.316000      0.083000    10.000000    27.000000  \n",
       "25%       0.427000     0.714000      0.308000    21.000000    39.000000  \n",
       "50%       0.464000     0.783000      0.359000    25.000000    44.000000  \n",
       "75%       0.500000     0.850500      0.421250    28.000000    48.000000  \n",
       "max       0.655000     1.000000      0.636000    41.000000    65.000000  "
      ]
     },
     "execution_count": 37,
     "metadata": {},
     "output_type": "execute_result"
    }
   ],
   "source": [
    "FinalDF.describe()"
   ]
  },
  {
   "cell_type": "code",
   "execution_count": 38,
   "metadata": {},
   "outputs": [
    {
     "data": {
      "text/plain": [
       "<AxesSubplot:xlabel='Home_Team'>"
      ]
     },
     "execution_count": 38,
     "metadata": {},
     "output_type": "execute_result"
    },
    {
     "data": {
      "image/png": "[encoded data removed]",
      "text/plain": [
       "<Figure size 432x288 with 1 Axes>"
      ]
     },
     "metadata": {
      "needs_background": "light"
     },
     "output_type": "display_data"
    }
   ],
   "source": [
    "FinalDF.groupby('Home_Team')['Home_Score'].mean().plot.bar()"
   ]
  },
  {
   "cell_type": "markdown",
   "metadata": {},
   "source": [
    "# Feature Engineering "
   ]
  },
  {
   "cell_type": "markdown",
   "metadata": {},
   "source": [
    "Creating Features for the last 5 games average "
   ]
  },
  {
   "cell_type": "code",
   "execution_count": 39,
   "metadata": {},
   "outputs": [],
   "source": [
    "FinalDF[\"Last_5_Home_PPG\"] = FinalDF.groupby('Home_Team')['Home_Score'].transform(lambda s: s.rolling(5).mean())\n",
    "FinalDF[\"Last_5_Away_PPG\"] = FinalDF.groupby('Visitor_Team')['Visitor_Score'].transform(lambda s: s.rolling(5).mean())\n",
    "FinalDF[\"Last_5_Home_APG\"] = FinalDF.groupby('Home_Team')['AST_home'].transform(lambda s: s.rolling(5).mean())\n",
    "FinalDF[\"Last_5_Away_APG\"] = FinalDF.groupby('Visitor_Team')['AST_away'].transform(lambda s: s.rolling(5).mean())\n",
    "FinalDF[\"Last_5_Home_RPG\"] = FinalDF.groupby('Home_Team')['REB_home'].transform(lambda s: s.rolling(5).mean())\n",
    "FinalDF[\"Last_5_Away_RPG\"] = FinalDF.groupby('Visitor_Team')['REB_away'].transform(lambda s: s.rolling(5).mean())\n",
    "FinalDF[\"Last_5_Home_FGP\"] = FinalDF.groupby('Home_Team')['FG_PCT_home'].transform(lambda s: s.rolling(5).mean())\n",
    "FinalDF[\"Last_5_Away_FGP\"] = FinalDF.groupby('Visitor_Team')['FG_PCT_away'].transform(lambda s: s.rolling(5).mean())\n",
    "FinalDF[\"Last_5_Home_3PTP\"] = FinalDF.groupby('Home_Team')['FG3_PCT_home'].transform(lambda s: s.rolling(5).mean())\n",
    "FinalDF[\"Last_5_Away_3PTP\"] = FinalDF.groupby('Visitor_Team')['FG3_PCT_away'].transform(lambda s: s.rolling(5).mean())\n",
    "FinalDF[\"Last_5_Home_FTP\"] = FinalDF.groupby('Home_Team')['FT_PCT_home'].transform(lambda s: s.rolling(5).mean())\n",
    "FinalDF[\"Last_5_Away_FTP\"] = FinalDF.groupby('Visitor_Team')['FT_PCT_away'].transform(lambda s: s.rolling(5).mean())\n",
    "\n",
    "FinalDF[\"Last_5_Home_PAllowed\"] = FinalDF.groupby('Home_Team')['Visitor_Score'].transform(lambda s: s.rolling(5).mean())\n",
    "FinalDF[\"Last_5_Away_PAllowed\"] = FinalDF.groupby('Visitor_Team')['Home_Score'].transform(lambda s: s.rolling(5).mean())\n",
    "FinalDF[\"Last_5_Home_RAllowed\"] = FinalDF.groupby('Home_Team')['REB_away'].transform(lambda s: s.rolling(5).mean())\n",
    "FinalDF[\"Last_5_Away_RAllowed\"] = FinalDF.groupby('Visitor_Team')['REB_home'].transform(lambda s: s.rolling(5).mean())\n",
    "FinalDF[\"Last_5_Home_AAllowed\"] = FinalDF.groupby('Home_Team')['AST_away'].transform(lambda s: s.rolling(5).mean())\n",
    "FinalDF[\"Last_5_Away_AAllowed\"] = FinalDF.groupby('Visitor_Team')['AST_home'].transform(lambda s: s.rolling(5).mean())\n",
    "FinalDF[\"Last_5_Home_3PTP_Against\"] = FinalDF.groupby('Home_Team')['FG3_PCT_away'].transform(lambda s: s.rolling(5).mean())\n",
    "FinalDF[\"Last_5_Away_3PTP_Against\"] = FinalDF.groupby('Visitor_Team')['FG3_PCT_home'].transform(lambda s: s.rolling(5).mean())\n",
    "FinalDF[\"Last_5_Away_Opponent_FTP\"] = FinalDF.groupby('Home_Team')['FT_PCT_away'].transform(lambda s: s.rolling(5).mean())\n",
    "FinalDF[\"Last_5_Home_Opponent_FTP\"] = FinalDF.groupby('Visitor_Team')['FT_PCT_home'].transform(lambda s: s.rolling(5).mean())\n"
   ]
  },
  {
   "cell_type": "markdown",
   "metadata": {},
   "source": [
    "Fill Nan's with the average of each team for the year"
   ]
  },
  {
   "cell_type": "code",
   "execution_count": 40,
   "metadata": {},
   "outputs": [],
   "source": [
    "FinalDF['Last_5_Home_PPG'] = FinalDF['Last_5_Home_PPG'].fillna(FinalDF.groupby('Home_Team')['Home_Score'].transform(lambda s: s.mean()))\n",
    "FinalDF[\"Last_5_Away_PPG\"] = FinalDF['Last_5_Away_PPG'].fillna(FinalDF.groupby('Visitor_Team')['Visitor_Score'].transform(lambda s: s.mean()))\n",
    "FinalDF[\"Last_5_Home_APG\"] = FinalDF['Last_5_Home_APG'].fillna(FinalDF.groupby('Home_Team')['AST_home'].transform(lambda s: s.mean()))\n",
    "FinalDF[\"Last_5_Away_APG\"] = FinalDF['Last_5_Away_APG'].fillna(FinalDF.groupby('Visitor_Team')['AST_away'].transform(lambda s: s.mean()))\n",
    "FinalDF[\"Last_5_Home_RPG\"] = FinalDF['Last_5_Home_RPG'].fillna(FinalDF.groupby('Home_Team')['REB_home'].transform(lambda s: s.mean()))\n",
    "FinalDF[\"Last_5_Away_RPG\"] = FinalDF['Last_5_Away_RPG'].fillna(FinalDF.groupby('Visitor_Team')['REB_away'].transform(lambda s: s.mean()))\n",
    "FinalDF[\"Last_5_Home_FGP\"] = FinalDF['Last_5_Home_FGP'].fillna(FinalDF.groupby('Home_Team')['FG_PCT_home'].transform(lambda s: s.mean()))\n",
    "FinalDF[\"Last_5_Away_FGP\"] = FinalDF['Last_5_Away_FGP'].fillna(FinalDF.groupby('Visitor_Team')['FG_PCT_away'].transform(lambda s: s.mean()))\n",
    "FinalDF[\"Last_5_Home_3PTP\"] = FinalDF['Last_5_Home_3PTP'].fillna(FinalDF.groupby('Home_Team')['FG3_PCT_home'].transform(lambda s: s.mean()))\n",
    "FinalDF[\"Last_5_Away_3PTP\"] = FinalDF['Last_5_Away_3PTP'].fillna(FinalDF.groupby('Visitor_Team')['FG3_PCT_away'].transform(lambda s: s.mean()))\n",
    "FinalDF[\"Last_5_Home_FTP\"] = FinalDF['Last_5_Away_FTP'].fillna(FinalDF.groupby('Home_Team')['FT_PCT_home'].transform(lambda s: s.mean()))\n",
    "FinalDF[\"Last_5_Away_FTP\"] = FinalDF['Last_5_Away_FTP'].fillna(FinalDF.groupby('Visitor_Team')['FT_PCT_away'].transform(lambda s: s.mean()))\n",
    "\n",
    "FinalDF[\"Last_5_Home_PAllowed\"] = FinalDF['Last_5_Home_PAllowed'].fillna(FinalDF.groupby('Home_Team')['Visitor_Score'].transform(lambda s: s.mean()))\n",
    "FinalDF[\"Last_5_Away_PAllowed\"] = FinalDF['Last_5_Away_PAllowed'].fillna(FinalDF.groupby('Visitor_Team')['Home_Score'].transform(lambda s: s.mean()))\n",
    "FinalDF[\"Last_5_Home_RAllowed\"] =FinalDF['Last_5_Home_RAllowed'].fillna(FinalDF.groupby('Home_Team')['REB_away'].transform(lambda s: s.mean()))\n",
    "FinalDF[\"Last_5_Away_RAllowed\"] = FinalDF['Last_5_Away_RAllowed'].fillna(FinalDF.groupby('Visitor_Team')['REB_home'].transform(lambda s: s.mean()))\n",
    "FinalDF[\"Last_5_Home_3PTP_Against\"] = FinalDF['Last_5_Home_3PTP_Against'].fillna(FinalDF.groupby('Home_Team')['FG3_PCT_away'].transform(lambda s: s.mean()))\n",
    "FinalDF[\"Last_5_Away_3PTP_Against\"] = FinalDF['Last_5_Away_3PTP_Against'].fillna(FinalDF.groupby('Visitor_Team')['FG3_PCT_home'].transform(lambda s: s.mean()))\n",
    "FinalDF[\"Last_5_Home_AAllowed\"] = FinalDF['Last_5_Home_AAllowed'].fillna(FinalDF.groupby('Home_Team')['AST_away'].transform(lambda s: s.mean()))\n",
    "FinalDF[\"Last_5_Away_AAllowed\"] = FinalDF['Last_5_Away_AAllowed'].fillna(FinalDF.groupby('Visitor_Team')['AST_home'].transform(lambda s: s.mean()))\n",
    "FinalDF[\"Last_5_Away_Opponent_FTP\"] = FinalDF['Last_5_Away_Opponent_FTP'].fillna(FinalDF.groupby('Home_Team')['FT_PCT_away'].transform(lambda s: s.mean()))\n",
    "FinalDF[\"Last_5_Home_Opponent_FTP\"] = FinalDF['Last_5_Home_Opponent_FTP'].fillna(FinalDF.groupby('Visitor_Team')['FT_PCT_home'].transform(lambda s: s.mean()))\n",
    "\n"
   ]
  },
  {
   "cell_type": "code",
   "execution_count": 41,
   "metadata": {},
   "outputs": [
    {
     "data": {
      "text/html": [
       "<div>\n",
       "<style scoped>\n",
       "    .dataframe tbody tr th:only-of-type {\n",
       "        vertical-align: middle;\n",
       "    }\n",
       "\n",
       "    .dataframe tbody tr th {\n",
       "        vertical-align: top;\n",
       "    }\n",
       "\n",
       "    .dataframe thead th {\n",
       "        text-align: right;\n",
       "    }\n",
       "</style>\n",
       "<table border=\"1\" class=\"dataframe\">\n",
       "  <thead>\n",
       "    <tr style=\"text-align: right;\">\n",
       "      <th></th>\n",
       "      <th>Home_Team</th>\n",
       "      <th>Visitor_Team</th>\n",
       "      <th>Home_Score</th>\n",
       "      <th>Visitor_Score</th>\n",
       "      <th>OSpread</th>\n",
       "      <th>CSpread</th>\n",
       "      <th>PointDiff</th>\n",
       "      <th>Home_Win</th>\n",
       "      <th>SpreadW</th>\n",
       "      <th>GAME_DATE_EST</th>\n",
       "      <th>...</th>\n",
       "      <th>Last_5_Home_PAllowed</th>\n",
       "      <th>Last_5_Away_PAllowed</th>\n",
       "      <th>Last_5_Home_RAllowed</th>\n",
       "      <th>Last_5_Away_RAllowed</th>\n",
       "      <th>Last_5_Home_AAllowed</th>\n",
       "      <th>Last_5_Away_AAllowed</th>\n",
       "      <th>Last_5_Home_3PTP_Against</th>\n",
       "      <th>Last_5_Away_3PTP_Against</th>\n",
       "      <th>Last_5_Away_Opponent_FTP</th>\n",
       "      <th>Last_5_Home_Opponent_FTP</th>\n",
       "    </tr>\n",
       "  </thead>\n",
       "  <tbody>\n",
       "    <tr>\n",
       "      <th>0</th>\n",
       "      <td>Nets</td>\n",
       "      <td>Warriors</td>\n",
       "      <td>125</td>\n",
       "      <td>99</td>\n",
       "      <td>5.5</td>\n",
       "      <td>7.5</td>\n",
       "      <td>26</td>\n",
       "      <td>1</td>\n",
       "      <td>1</td>\n",
       "      <td>2020-12-22</td>\n",
       "      <td>...</td>\n",
       "      <td>111.361111</td>\n",
       "      <td>114.138889</td>\n",
       "      <td>42.861111</td>\n",
       "      <td>49.805556</td>\n",
       "      <td>23.222222</td>\n",
       "      <td>24.277778</td>\n",
       "      <td>0.353611</td>\n",
       "      <td>0.364861</td>\n",
       "      <td>0.769472</td>\n",
       "      <td>0.788333</td>\n",
       "    </tr>\n",
       "    <tr>\n",
       "      <th>1</th>\n",
       "      <td>Lakers</td>\n",
       "      <td>Clippers</td>\n",
       "      <td>109</td>\n",
       "      <td>116</td>\n",
       "      <td>2.5</td>\n",
       "      <td>2.0</td>\n",
       "      <td>-7</td>\n",
       "      <td>0</td>\n",
       "      <td>0</td>\n",
       "      <td>2020-12-22</td>\n",
       "      <td>...</td>\n",
       "      <td>107.916667</td>\n",
       "      <td>107.805556</td>\n",
       "      <td>41.416667</td>\n",
       "      <td>41.611111</td>\n",
       "      <td>25.500000</td>\n",
       "      <td>23.027778</td>\n",
       "      <td>0.354972</td>\n",
       "      <td>0.361167</td>\n",
       "      <td>0.783944</td>\n",
       "      <td>0.781583</td>\n",
       "    </tr>\n",
       "    <tr>\n",
       "      <th>2</th>\n",
       "      <td>Cavaliers</td>\n",
       "      <td>Hornets</td>\n",
       "      <td>121</td>\n",
       "      <td>114</td>\n",
       "      <td>1.0</td>\n",
       "      <td>-3.0</td>\n",
       "      <td>7</td>\n",
       "      <td>1</td>\n",
       "      <td>1</td>\n",
       "      <td>2020-12-23</td>\n",
       "      <td>...</td>\n",
       "      <td>114.333333</td>\n",
       "      <td>114.277778</td>\n",
       "      <td>43.194444</td>\n",
       "      <td>45.194444</td>\n",
       "      <td>25.583333</td>\n",
       "      <td>28.361111</td>\n",
       "      <td>0.391611</td>\n",
       "      <td>0.384889</td>\n",
       "      <td>0.760889</td>\n",
       "      <td>0.754028</td>\n",
       "    </tr>\n",
       "    <tr>\n",
       "      <th>3</th>\n",
       "      <td>Pacers</td>\n",
       "      <td>Knicks</td>\n",
       "      <td>121</td>\n",
       "      <td>107</td>\n",
       "      <td>8.5</td>\n",
       "      <td>7.5</td>\n",
       "      <td>14</td>\n",
       "      <td>1</td>\n",
       "      <td>1</td>\n",
       "      <td>2020-12-23</td>\n",
       "      <td>...</td>\n",
       "      <td>115.583333</td>\n",
       "      <td>104.305556</td>\n",
       "      <td>46.888889</td>\n",
       "      <td>45.166667</td>\n",
       "      <td>25.888889</td>\n",
       "      <td>24.027778</td>\n",
       "      <td>0.368139</td>\n",
       "      <td>0.331222</td>\n",
       "      <td>0.770083</td>\n",
       "      <td>0.768833</td>\n",
       "    </tr>\n",
       "    <tr>\n",
       "      <th>4</th>\n",
       "      <td>Magic</td>\n",
       "      <td>Heat</td>\n",
       "      <td>113</td>\n",
       "      <td>107</td>\n",
       "      <td>-3.5</td>\n",
       "      <td>-4.5</td>\n",
       "      <td>6</td>\n",
       "      <td>1</td>\n",
       "      <td>1</td>\n",
       "      <td>2020-12-23</td>\n",
       "      <td>...</td>\n",
       "      <td>114.416667</td>\n",
       "      <td>107.500000</td>\n",
       "      <td>46.583333</td>\n",
       "      <td>42.750000</td>\n",
       "      <td>26.222222</td>\n",
       "      <td>26.138889</td>\n",
       "      <td>0.372889</td>\n",
       "      <td>0.365556</td>\n",
       "      <td>0.790333</td>\n",
       "      <td>0.761778</td>\n",
       "    </tr>\n",
       "    <tr>\n",
       "      <th>...</th>\n",
       "      <td>...</td>\n",
       "      <td>...</td>\n",
       "      <td>...</td>\n",
       "      <td>...</td>\n",
       "      <td>...</td>\n",
       "      <td>...</td>\n",
       "      <td>...</td>\n",
       "      <td>...</td>\n",
       "      <td>...</td>\n",
       "      <td>...</td>\n",
       "      <td>...</td>\n",
       "      <td>...</td>\n",
       "      <td>...</td>\n",
       "      <td>...</td>\n",
       "      <td>...</td>\n",
       "      <td>...</td>\n",
       "      <td>...</td>\n",
       "      <td>...</td>\n",
       "      <td>...</td>\n",
       "      <td>...</td>\n",
       "      <td>...</td>\n",
       "    </tr>\n",
       "    <tr>\n",
       "      <th>1075</th>\n",
       "      <td>Trail Blazers</td>\n",
       "      <td>Nuggets</td>\n",
       "      <td>132</td>\n",
       "      <td>116</td>\n",
       "      <td>8.5</td>\n",
       "      <td>8.5</td>\n",
       "      <td>16</td>\n",
       "      <td>1</td>\n",
       "      <td>1</td>\n",
       "      <td>2021-05-16</td>\n",
       "      <td>...</td>\n",
       "      <td>113.600000</td>\n",
       "      <td>113.000000</td>\n",
       "      <td>44.600000</td>\n",
       "      <td>44.400000</td>\n",
       "      <td>21.600000</td>\n",
       "      <td>24.400000</td>\n",
       "      <td>0.401600</td>\n",
       "      <td>0.342000</td>\n",
       "      <td>0.870200</td>\n",
       "      <td>0.779800</td>\n",
       "    </tr>\n",
       "    <tr>\n",
       "      <th>1076</th>\n",
       "      <td>Bulls</td>\n",
       "      <td>Bucks</td>\n",
       "      <td>118</td>\n",
       "      <td>112</td>\n",
       "      <td>-2.5</td>\n",
       "      <td>-7.0</td>\n",
       "      <td>6</td>\n",
       "      <td>1</td>\n",
       "      <td>1</td>\n",
       "      <td>2021-05-16</td>\n",
       "      <td>...</td>\n",
       "      <td>106.800000</td>\n",
       "      <td>127.600000</td>\n",
       "      <td>43.000000</td>\n",
       "      <td>46.600000</td>\n",
       "      <td>22.400000</td>\n",
       "      <td>26.000000</td>\n",
       "      <td>0.339200</td>\n",
       "      <td>0.471600</td>\n",
       "      <td>0.712600</td>\n",
       "      <td>0.769400</td>\n",
       "    </tr>\n",
       "    <tr>\n",
       "      <th>1077</th>\n",
       "      <td>Wizards</td>\n",
       "      <td>Hornets</td>\n",
       "      <td>115</td>\n",
       "      <td>110</td>\n",
       "      <td>6.5</td>\n",
       "      <td>7.0</td>\n",
       "      <td>5</td>\n",
       "      <td>1</td>\n",
       "      <td>0</td>\n",
       "      <td>2021-05-16</td>\n",
       "      <td>...</td>\n",
       "      <td>121.800000</td>\n",
       "      <td>112.000000</td>\n",
       "      <td>43.200000</td>\n",
       "      <td>50.600000</td>\n",
       "      <td>27.000000</td>\n",
       "      <td>25.600000</td>\n",
       "      <td>0.351000</td>\n",
       "      <td>0.347400</td>\n",
       "      <td>0.808600</td>\n",
       "      <td>0.742000</td>\n",
       "    </tr>\n",
       "    <tr>\n",
       "      <th>1078</th>\n",
       "      <td>Knicks</td>\n",
       "      <td>Celtics</td>\n",
       "      <td>96</td>\n",
       "      <td>92</td>\n",
       "      <td>8.5</td>\n",
       "      <td>12.0</td>\n",
       "      <td>4</td>\n",
       "      <td>1</td>\n",
       "      <td>0</td>\n",
       "      <td>2021-05-16</td>\n",
       "      <td>...</td>\n",
       "      <td>102.200000</td>\n",
       "      <td>104.600000</td>\n",
       "      <td>44.800000</td>\n",
       "      <td>48.800000</td>\n",
       "      <td>24.200000</td>\n",
       "      <td>20.800000</td>\n",
       "      <td>0.315200</td>\n",
       "      <td>0.327800</td>\n",
       "      <td>0.749800</td>\n",
       "      <td>0.828000</td>\n",
       "    </tr>\n",
       "    <tr>\n",
       "      <th>1079</th>\n",
       "      <td>Raptors</td>\n",
       "      <td>Pacers</td>\n",
       "      <td>113</td>\n",
       "      <td>125</td>\n",
       "      <td>-7.0</td>\n",
       "      <td>-6.0</td>\n",
       "      <td>-12</td>\n",
       "      <td>0</td>\n",
       "      <td>0</td>\n",
       "      <td>2021-05-16</td>\n",
       "      <td>...</td>\n",
       "      <td>119.200000</td>\n",
       "      <td>115.200000</td>\n",
       "      <td>48.000000</td>\n",
       "      <td>48.200000</td>\n",
       "      <td>28.400000</td>\n",
       "      <td>27.400000</td>\n",
       "      <td>0.381600</td>\n",
       "      <td>0.316400</td>\n",
       "      <td>0.869200</td>\n",
       "      <td>0.723200</td>\n",
       "    </tr>\n",
       "  </tbody>\n",
       "</table>\n",
       "<p>1080 rows × 45 columns</p>\n",
       "</div>"
      ],
      "text/plain": [
       "          Home_Team Visitor_Team  Home_Score  Visitor_Score  OSpread  CSpread  \\\n",
       "0              Nets     Warriors         125             99      5.5      7.5   \n",
       "1            Lakers     Clippers         109            116      2.5      2.0   \n",
       "2         Cavaliers      Hornets         121            114      1.0     -3.0   \n",
       "3            Pacers       Knicks         121            107      8.5      7.5   \n",
       "4             Magic         Heat         113            107     -3.5     -4.5   \n",
       "...             ...          ...         ...            ...      ...      ...   \n",
       "1075  Trail Blazers      Nuggets         132            116      8.5      8.5   \n",
       "1076          Bulls        Bucks         118            112     -2.5     -7.0   \n",
       "1077        Wizards      Hornets         115            110      6.5      7.0   \n",
       "1078         Knicks      Celtics          96             92      8.5     12.0   \n",
       "1079        Raptors       Pacers         113            125     -7.0     -6.0   \n",
       "\n",
       "      PointDiff  Home_Win  SpreadW GAME_DATE_EST  ...  Last_5_Home_PAllowed  \\\n",
       "0            26         1        1    2020-12-22  ...            111.361111   \n",
       "1            -7         0        0    2020-12-22  ...            107.916667   \n",
       "2             7         1        1    2020-12-23  ...            114.333333   \n",
       "3            14         1        1    2020-12-23  ...            115.583333   \n",
       "4             6         1        1    2020-12-23  ...            114.416667   \n",
       "...         ...       ...      ...           ...  ...                   ...   \n",
       "1075         16         1        1    2021-05-16  ...            113.600000   \n",
       "1076          6         1        1    2021-05-16  ...            106.800000   \n",
       "1077          5         1        0    2021-05-16  ...            121.800000   \n",
       "1078          4         1        0    2021-05-16  ...            102.200000   \n",
       "1079        -12         0        0    2021-05-16  ...            119.200000   \n",
       "\n",
       "      Last_5_Away_PAllowed  Last_5_Home_RAllowed  Last_5_Away_RAllowed  \\\n",
       "0               114.138889             42.861111             49.805556   \n",
       "1               107.805556             41.416667             41.611111   \n",
       "2               114.277778             43.194444             45.194444   \n",
       "3               104.305556             46.888889             45.166667   \n",
       "4               107.500000             46.583333             42.750000   \n",
       "...                    ...                   ...                   ...   \n",
       "1075            113.000000             44.600000             44.400000   \n",
       "1076            127.600000             43.000000             46.600000   \n",
       "1077            112.000000             43.200000             50.600000   \n",
       "1078            104.600000             44.800000             48.800000   \n",
       "1079            115.200000             48.000000             48.200000   \n",
       "\n",
       "      Last_5_Home_AAllowed  Last_5_Away_AAllowed  Last_5_Home_3PTP_Against  \\\n",
       "0                23.222222             24.277778                  0.353611   \n",
       "1                25.500000             23.027778                  0.354972   \n",
       "2                25.583333             28.361111                  0.391611   \n",
       "3                25.888889             24.027778                  0.368139   \n",
       "4                26.222222             26.138889                  0.372889   \n",
       "...                    ...                   ...                       ...   \n",
       "1075             21.600000             24.400000                  0.401600   \n",
       "1076             22.400000             26.000000                  0.339200   \n",
       "1077             27.000000             25.600000                  0.351000   \n",
       "1078             24.200000             20.800000                  0.315200   \n",
       "1079             28.400000             27.400000                  0.381600   \n",
       "\n",
       "      Last_5_Away_3PTP_Against  Last_5_Away_Opponent_FTP  \\\n",
       "0                     0.364861                  0.769472   \n",
       "1                     0.361167                  0.783944   \n",
       "2                     0.384889                  0.760889   \n",
       "3                     0.331222                  0.770083   \n",
       "4                     0.365556                  0.790333   \n",
       "...                        ...                       ...   \n",
       "1075                  0.342000                  0.870200   \n",
       "1076                  0.471600                  0.712600   \n",
       "1077                  0.347400                  0.808600   \n",
       "1078                  0.327800                  0.749800   \n",
       "1079                  0.316400                  0.869200   \n",
       "\n",
       "      Last_5_Home_Opponent_FTP  \n",
       "0                     0.788333  \n",
       "1                     0.781583  \n",
       "2                     0.754028  \n",
       "3                     0.768833  \n",
       "4                     0.761778  \n",
       "...                        ...  \n",
       "1075                  0.779800  \n",
       "1076                  0.769400  \n",
       "1077                  0.742000  \n",
       "1078                  0.828000  \n",
       "1079                  0.723200  \n",
       "\n",
       "[1080 rows x 45 columns]"
      ]
     },
     "execution_count": 41,
     "metadata": {},
     "output_type": "execute_result"
    }
   ],
   "source": [
    "FinalDF"
   ]
  },
  {
   "cell_type": "markdown",
   "metadata": {},
   "source": [
    "Dummying the category variables of team names"
   ]
  },
  {
   "cell_type": "code",
   "execution_count": 42,
   "metadata": {},
   "outputs": [],
   "source": [
    "NBA = pd.get_dummies(FinalDF, columns=['Home_Team','Visitor_Team'])"
   ]
  },
  {
   "cell_type": "code",
   "execution_count": 43,
   "metadata": {},
   "outputs": [
    {
     "data": {
      "text/plain": [
       "Index(['Home_Score', 'Visitor_Score', 'OSpread', 'CSpread', 'PointDiff',\n",
       "       'Home_Win', 'SpreadW', 'GAME_DATE_EST', 'GAME_ID', 'PTS_home',\n",
       "       ...\n",
       "       'Visitor_Team_Pistons', 'Visitor_Team_Raptors', 'Visitor_Team_Rockets',\n",
       "       'Visitor_Team_Spurs', 'Visitor_Team_Suns', 'Visitor_Team_Thunder',\n",
       "       'Visitor_Team_Timberwolves', 'Visitor_Team_Trail Blazers',\n",
       "       'Visitor_Team_Warriors', 'Visitor_Team_Wizards'],\n",
       "      dtype='object', length=103)"
      ]
     },
     "execution_count": 43,
     "metadata": {},
     "output_type": "execute_result"
    }
   ],
   "source": [
    "NBA.columns"
   ]
  },
  {
   "cell_type": "markdown",
   "metadata": {},
   "source": [
    "### train test splitting the data"
   ]
  },
  {
   "cell_type": "code",
   "execution_count": 44,
   "metadata": {},
   "outputs": [],
   "source": [
    "target = FinalDF['SpreadW']"
   ]
  },
  {
   "cell_type": "code",
   "execution_count": 45,
   "metadata": {},
   "outputs": [],
   "source": [
    "X = NBA.drop(columns=['Home_Score','Visitor_Score','GAME_DATE_EST','PointDiff','PTS_home',\n",
    "       'FG_PCT_home', 'FT_PCT_home', 'FG3_PCT_home', 'AST_home', 'REB_home',\n",
    "       'PTS_away', 'FG_PCT_away', 'FT_PCT_away', 'FG3_PCT_away', 'AST_away',\n",
    "       'REB_away','GAME_ID','Home_Win', 'SpreadW'\n",
    "                     ])\n",
    "y = target\n"
   ]
  },
  {
   "cell_type": "code",
   "execution_count": 46,
   "metadata": {},
   "outputs": [],
   "source": [
    "X_train, X_test, y_train, y_test = train_test_split(X,y, random_state=42,test_size=.30)\n"
   ]
  },
  {
   "cell_type": "markdown",
   "metadata": {},
   "source": [
    "## Baseline Model"
   ]
  },
  {
   "cell_type": "code",
   "execution_count": 47,
   "metadata": {},
   "outputs": [],
   "source": [
    "dummy_model = DummyClassifier()"
   ]
  },
  {
   "cell_type": "code",
   "execution_count": 48,
   "metadata": {},
   "outputs": [
    {
     "data": {
      "text/plain": [
       "DummyClassifier()"
      ]
     },
     "execution_count": 48,
     "metadata": {},
     "output_type": "execute_result"
    }
   ],
   "source": [
    "dummy_model.fit(X_train, y_train)"
   ]
  },
  {
   "cell_type": "code",
   "execution_count": 49,
   "metadata": {},
   "outputs": [
    {
     "data": {
      "image/png": "[encoded data removed]",
      "text/plain": [
       "<Figure size 432x288 with 2 Axes>"
      ]
     },
     "metadata": {
      "needs_background": "light"
     },
     "output_type": "display_data"
    }
   ],
   "source": [
    "fig, ax = plt.subplots()\n",
    "fig.suptitle('Dummy Model')\n",
    "plot_confusion_matrix(dummy_model, X_test, y_test, ax=ax, cmap=\"plasma\");"
   ]
  },
  {
   "cell_type": "markdown",
   "metadata": {},
   "source": [
    "## logistic regression"
   ]
  },
  {
   "cell_type": "code",
   "execution_count": 50,
   "metadata": {},
   "outputs": [],
   "source": [
    "lm = LogisticRegression(random_state=42)"
   ]
  },
  {
   "cell_type": "code",
   "execution_count": 51,
   "metadata": {},
   "outputs": [],
   "source": [
    "model=lm.fit(X_train, y_train)"
   ]
  },
  {
   "cell_type": "code",
   "execution_count": 52,
   "metadata": {},
   "outputs": [
    {
     "data": {
      "text/plain": [
       "0.6997354497354498"
      ]
     },
     "execution_count": 52,
     "metadata": {},
     "output_type": "execute_result"
    }
   ],
   "source": [
    "lm.score(X_train,y_train)"
   ]
  },
  {
   "cell_type": "code",
   "execution_count": 53,
   "metadata": {},
   "outputs": [
    {
     "data": {
      "text/plain": [
       "0.6512345679012346"
      ]
     },
     "execution_count": 53,
     "metadata": {},
     "output_type": "execute_result"
    }
   ],
   "source": [
    "lm.score(X_test,y_test)"
   ]
  },
  {
   "cell_type": "code",
   "execution_count": 54,
   "metadata": {},
   "outputs": [],
   "source": [
    "def metrics_score(train_preds, y_train, test_preds, y_test):\n",
    "    print(f\"Training Accuracy:\\t{accuracy_score(y_train, train_preds):.4}\",\n",
    "          f\"\\tTesting Accuracy:\\t{accuracy_score(y_test, test_preds):.4}\")\n",
    "    print(f\"Training Precision:\\t{precision_score(y_train, train_preds):.4}\",\n",
    "          f\"\\tTesting Precision:\\t{precision_score(y_test, test_preds):.4}\")\n",
    "    print(f\"Training Recall:\\t{recall_score(y_train, train_preds):.4}\",\n",
    "          f\"\\tTesting Recall:\\t\\t{recall_score(y_test, test_preds):.4}\")\n",
    "    print(f\"Training F1:\\t\\t{f1_score(y_train, train_preds):.4}\",\n",
    "          f\"\\tTesting F1:\\t\\t{f1_score(y_test, test_preds):.4}\")"
   ]
  },
  {
   "cell_type": "code",
   "execution_count": 55,
   "metadata": {},
   "outputs": [
    {
     "name": "stdout",
     "output_type": "stream",
     "text": [
      "Training Accuracy:\t0.6997 \tTesting Accuracy:\t0.6512\n",
      "Training Precision:\t0.686 \tTesting Precision:\t0.6338\n",
      "Training Recall:\t0.6447 \tTesting Recall:\t\t0.596\n",
      "Training F1:\t\t0.6647 \tTesting F1:\t\t0.6143\n"
     ]
    }
   ],
   "source": [
    "lm_train_preds = lm.predict(X_train)\n",
    "lm_test_preds = lm.predict(X_test)\n",
    "metrics_score(lm_train_preds, y_train, lm_test_preds, y_test)"
   ]
  },
  {
   "cell_type": "markdown",
   "metadata": {},
   "source": [
    "Close training and testing accuracy means unlikely for overfitting"
   ]
  },
  {
   "cell_type": "code",
   "execution_count": 56,
   "metadata": {},
   "outputs": [],
   "source": [
    "cv_results = cross_validate(\n",
    "    estimator = model,\n",
    "    X = X_train,\n",
    "    y = y_train,\n",
    "    cv = 5,\n",
    "    return_train_score = True\n",
    ")"
   ]
  },
  {
   "cell_type": "code",
   "execution_count": 57,
   "metadata": {},
   "outputs": [
    {
     "data": {
      "text/plain": [
       "array([0.70364238, 0.68760331, 0.71404959, 0.68429752, 0.70247934])"
      ]
     },
     "execution_count": 57,
     "metadata": {},
     "output_type": "execute_result"
    }
   ],
   "source": [
    "cv_results['train_score']"
   ]
  },
  {
   "cell_type": "code",
   "execution_count": 58,
   "metadata": {},
   "outputs": [
    {
     "data": {
      "text/plain": [
       "array([0.67105263, 0.69536424, 0.62913907, 0.66887417, 0.65562914])"
      ]
     },
     "execution_count": 58,
     "metadata": {},
     "output_type": "execute_result"
    }
   ],
   "source": [
    "cv_results['test_score']"
   ]
  },
  {
   "cell_type": "markdown",
   "metadata": {},
   "source": [
    "### RFECV"
   ]
  },
  {
   "cell_type": "code",
   "execution_count": 59,
   "metadata": {},
   "outputs": [],
   "source": [
    "scaler = StandardScaler()\n",
    "scaler.fit(X_train)\n",
    "\n",
    "X_test_scaled =  pd.DataFrame(scaler.transform(X_test), index = X_test.index, columns = X_test.columns)\n",
    "X_train_scaled = pd.DataFrame(scaler.transform(X_train), index = X_train.index, columns = X_train.columns)"
   ]
  },
  {
   "cell_type": "code",
   "execution_count": 60,
   "metadata": {},
   "outputs": [
    {
     "name": "stdout",
     "output_type": "stream",
     "text": [
      "Fitting estimator with 84 features.\n",
      "Fitting estimator with 83 features.\n",
      "Fitting estimator with 82 features.\n",
      "Fitting estimator with 81 features.\n",
      "Fitting estimator with 80 features.\n",
      "Fitting estimator with 79 features.\n",
      "Fitting estimator with 78 features.\n",
      "Fitting estimator with 77 features.\n",
      "Fitting estimator with 76 features.\n",
      "Fitting estimator with 75 features.\n",
      "Fitting estimator with 74 features.\n",
      "Fitting estimator with 73 features.\n",
      "Fitting estimator with 72 features.\n",
      "Fitting estimator with 71 features.\n",
      "Fitting estimator with 70 features.\n",
      "Fitting estimator with 69 features.\n",
      "Fitting estimator with 68 features.\n",
      "Fitting estimator with 67 features.\n",
      "Fitting estimator with 66 features.\n",
      "Fitting estimator with 65 features.\n",
      "Fitting estimator with 64 features.\n",
      "Fitting estimator with 63 features.\n",
      "Fitting estimator with 62 features.\n",
      "Fitting estimator with 61 features.\n",
      "Fitting estimator with 60 features.\n",
      "Fitting estimator with 59 features.\n",
      "Fitting estimator with 58 features.\n",
      "Fitting estimator with 57 features.\n",
      "Fitting estimator with 56 features.\n",
      "Fitting estimator with 55 features.\n",
      "Fitting estimator with 54 features.\n",
      "Fitting estimator with 53 features.\n",
      "Fitting estimator with 52 features.\n",
      "Fitting estimator with 51 features.\n",
      "Fitting estimator with 50 features.\n",
      "Fitting estimator with 49 features.\n",
      "Fitting estimator with 48 features.\n",
      "Fitting estimator with 47 features.\n",
      "Fitting estimator with 46 features.\n",
      "Fitting estimator with 45 features.\n",
      "Fitting estimator with 44 features.\n",
      "Fitting estimator with 43 features.\n",
      "Fitting estimator with 42 features.\n",
      "Fitting estimator with 41 features.\n",
      "Fitting estimator with 40 features.\n",
      "Fitting estimator with 39 features.\n",
      "Fitting estimator with 38 features.\n",
      "Fitting estimator with 37 features.\n",
      "Fitting estimator with 36 features.\n",
      "Fitting estimator with 35 features.\n",
      "Fitting estimator with 34 features.\n",
      "Fitting estimator with 33 features.\n",
      "Fitting estimator with 32 features.\n",
      "Fitting estimator with 31 features.\n",
      "Fitting estimator with 30 features.\n",
      "Fitting estimator with 29 features.\n",
      "Fitting estimator with 28 features.\n",
      "Fitting estimator with 27 features.\n",
      "Fitting estimator with 26 features.\n",
      "Fitting estimator with 25 features.\n",
      "Fitting estimator with 24 features.\n",
      "Fitting estimator with 23 features.\n",
      "Fitting estimator with 22 features.\n",
      "Fitting estimator with 21 features.\n",
      "Fitting estimator with 20 features.\n",
      "Fitting estimator with 19 features.\n",
      "Fitting estimator with 18 features.\n",
      "Fitting estimator with 17 features.\n",
      "Fitting estimator with 16 features.\n",
      "Fitting estimator with 15 features.\n",
      "Fitting estimator with 14 features.\n",
      "Fitting estimator with 13 features.\n",
      "Fitting estimator with 12 features.\n",
      "Fitting estimator with 11 features.\n",
      "Fitting estimator with 10 features.\n",
      "Fitting estimator with 9 features.\n",
      "Fitting estimator with 8 features.\n",
      "Fitting estimator with 7 features.\n",
      "Fitting estimator with 6 features.\n",
      "Fitting estimator with 5 features.\n"
     ]
    },
    {
     "data": {
      "text/plain": [
       "Index(['OSpread', 'Last_5_Home_PPG', 'Last_5_Away_PPG',\n",
       "       'Last_5_Home_PAllowed'],\n",
       "      dtype='object')"
      ]
     },
     "execution_count": 60,
     "metadata": {},
     "output_type": "execute_result"
    }
   ],
   "source": [
    "rfe_lr = RFECV(estimator=LogisticRegression(class_weight = 'balanced', max_iter = 1000), step = 1, cv = 3, scoring = 'accuracy', n_jobs = -1, verbose = 1)\n",
    "rfe_lr.fit(X_train_scaled, y_train)\n",
    "X_train_scaled.columns[rfe_lr.get_support()]\n"
   ]
  },
  {
   "cell_type": "code",
   "execution_count": 61,
   "metadata": {},
   "outputs": [
    {
     "name": "stdout",
     "output_type": "stream",
     "text": [
      "Fitting estimator with 84 features.\n",
      "Fitting estimator with 83 features.\n",
      "Fitting estimator with 82 features.\n",
      "Fitting estimator with 81 features.\n",
      "Fitting estimator with 80 features.\n",
      "Fitting estimator with 79 features.\n",
      "Fitting estimator with 78 features.\n",
      "Fitting estimator with 77 features.\n",
      "Fitting estimator with 76 features.\n",
      "Fitting estimator with 75 features.\n",
      "Fitting estimator with 74 features.\n",
      "Fitting estimator with 73 features.\n",
      "Fitting estimator with 72 features.\n",
      "Fitting estimator with 71 features.\n",
      "Fitting estimator with 70 features.\n",
      "Fitting estimator with 69 features.\n",
      "Fitting estimator with 68 features.\n",
      "Fitting estimator with 67 features.\n",
      "Fitting estimator with 66 features.\n",
      "Fitting estimator with 65 features.\n",
      "Fitting estimator with 64 features.\n",
      "Fitting estimator with 63 features.\n",
      "Fitting estimator with 62 features.\n",
      "Fitting estimator with 61 features.\n",
      "Fitting estimator with 60 features.\n",
      "Fitting estimator with 59 features.\n",
      "Fitting estimator with 58 features.\n",
      "Fitting estimator with 57 features.\n",
      "Fitting estimator with 56 features.\n",
      "Fitting estimator with 55 features.\n",
      "Fitting estimator with 54 features.\n",
      "Fitting estimator with 53 features.\n",
      "Fitting estimator with 52 features.\n",
      "Fitting estimator with 51 features.\n",
      "Fitting estimator with 50 features.\n",
      "Fitting estimator with 49 features.\n",
      "Fitting estimator with 48 features.\n",
      "Fitting estimator with 47 features.\n",
      "Fitting estimator with 46 features.\n",
      "Fitting estimator with 45 features.\n",
      "Fitting estimator with 44 features.\n",
      "Fitting estimator with 43 features.\n",
      "Fitting estimator with 42 features.\n",
      "Fitting estimator with 41 features.\n",
      "Fitting estimator with 40 features.\n",
      "Fitting estimator with 39 features.\n",
      "Fitting estimator with 38 features.\n",
      "Fitting estimator with 37 features.\n",
      "Fitting estimator with 36 features.\n",
      "Fitting estimator with 35 features.\n",
      "Fitting estimator with 34 features.\n",
      "Fitting estimator with 33 features.\n",
      "Fitting estimator with 32 features.\n",
      "Fitting estimator with 31 features.\n",
      "Fitting estimator with 30 features.\n",
      "Fitting estimator with 29 features.\n",
      "Fitting estimator with 28 features.\n",
      "Fitting estimator with 27 features.\n",
      "Fitting estimator with 26 features.\n",
      "Fitting estimator with 25 features.\n",
      "Fitting estimator with 24 features.\n",
      "Fitting estimator with 23 features.\n",
      "Fitting estimator with 22 features.\n",
      "Fitting estimator with 21 features.\n",
      "Fitting estimator with 20 features.\n",
      "Fitting estimator with 19 features.\n",
      "Fitting estimator with 18 features.\n",
      "Fitting estimator with 17 features.\n",
      "Fitting estimator with 16 features.\n",
      "Fitting estimator with 15 features.\n",
      "Fitting estimator with 14 features.\n",
      "Fitting estimator with 13 features.\n",
      "Fitting estimator with 12 features.\n",
      "Fitting estimator with 11 features.\n",
      "Fitting estimator with 10 features.\n",
      "Fitting estimator with 9 features.\n",
      "Fitting estimator with 8 features.\n",
      "Fitting estimator with 7 features.\n",
      "Fitting estimator with 6 features.\n",
      "Fitting estimator with 84 features.\n",
      "Fitting estimator with 83 features.\n",
      "Fitting estimator with 82 features.\n",
      "Fitting estimator with 81 features.\n",
      "Fitting estimator with 80 features.\n",
      "Fitting estimator with 79 features.\n",
      "Fitting estimator with 78 features.\n",
      "Fitting estimator with 77 features.\n",
      "Fitting estimator with 76 features.\n",
      "Fitting estimator with 75 features.\n",
      "Fitting estimator with 74 features.\n",
      "Fitting estimator with 73 features.\n",
      "Fitting estimator with 72 features.\n",
      "Fitting estimator with 71 features.\n",
      "Fitting estimator with 70 features.\n",
      "Fitting estimator with 69 features.\n",
      "Fitting estimator with 68 features.\n",
      "Fitting estimator with 67 features.\n",
      "Fitting estimator with 66 features.\n",
      "Fitting estimator with 65 features.\n",
      "Fitting estimator with 64 features.\n",
      "Fitting estimator with 63 features.\n",
      "Fitting estimator with 62 features.\n",
      "Fitting estimator with 61 features.\n",
      "Fitting estimator with 60 features.\n",
      "Fitting estimator with 59 features.\n",
      "Fitting estimator with 58 features.\n",
      "Fitting estimator with 57 features.\n",
      "Fitting estimator with 56 features.\n",
      "Fitting estimator with 55 features.\n",
      "Fitting estimator with 54 features.\n",
      "Fitting estimator with 53 features.\n",
      "Fitting estimator with 52 features.\n",
      "Fitting estimator with 51 features.\n",
      "Fitting estimator with 50 features.\n",
      "Fitting estimator with 49 features.\n",
      "Fitting estimator with 48 features.\n",
      "Fitting estimator with 47 features.\n",
      "Fitting estimator with 46 features.\n",
      "Fitting estimator with 45 features.\n",
      "Fitting estimator with 44 features.\n",
      "Fitting estimator with 43 features.\n",
      "Fitting estimator with 42 features.\n",
      "Fitting estimator with 41 features.\n",
      "Fitting estimator with 40 features.\n",
      "Fitting estimator with 39 features.\n",
      "Fitting estimator with 38 features.\n",
      "Fitting estimator with 37 features.\n",
      "Fitting estimator with 36 features.\n",
      "Fitting estimator with 35 features.\n",
      "Fitting estimator with 34 features.\n",
      "Fitting estimator with 33 features.\n",
      "Fitting estimator with 32 features.\n",
      "Fitting estimator with 31 features.\n",
      "Fitting estimator with 30 features.\n",
      "Fitting estimator with 29 features.\n",
      "Fitting estimator with 28 features.\n",
      "Fitting estimator with 27 features.\n",
      "Fitting estimator with 26 features.\n",
      "Fitting estimator with 25 features.\n",
      "Fitting estimator with 24 features.\n",
      "Fitting estimator with 23 features.\n",
      "Fitting estimator with 22 features.\n",
      "Fitting estimator with 21 features.\n",
      "Fitting estimator with 20 features.\n",
      "Fitting estimator with 19 features.\n",
      "Fitting estimator with 18 features.\n",
      "Fitting estimator with 17 features.\n",
      "Fitting estimator with 16 features.\n",
      "Fitting estimator with 15 features.\n",
      "Fitting estimator with 14 features.\n",
      "Fitting estimator with 13 features.\n",
      "Fitting estimator with 12 features.\n",
      "Fitting estimator with 11 features.\n",
      "Fitting estimator with 10 features.\n",
      "Fitting estimator with 9 features.\n",
      "Fitting estimator with 84 features.\n",
      "Fitting estimator with 83 features.\n",
      "Fitting estimator with 82 features.\n",
      "Fitting estimator with 81 features.\n",
      "Fitting estimator with 80 features.\n",
      "Fitting estimator with 79 features.\n",
      "Fitting estimator with 78 features.\n",
      "Fitting estimator with 77 features.\n",
      "Fitting estimator with 76 features.\n",
      "Fitting estimator with 75 features.\n",
      "Fitting estimator with 74 features.\n",
      "Fitting estimator with 73 features.\n",
      "Fitting estimator with 72 features.\n",
      "Fitting estimator with 71 features.\n",
      "Fitting estimator with 70 features.\n",
      "Fitting estimator with 69 features.\n",
      "Fitting estimator with 68 features.\n",
      "Fitting estimator with 67 features.\n",
      "Fitting estimator with 66 features.\n",
      "Fitting estimator with 65 features.\n",
      "Fitting estimator with 64 features.\n",
      "Fitting estimator with 63 features.\n",
      "Fitting estimator with 62 features.\n",
      "Fitting estimator with 61 features.\n",
      "Fitting estimator with 60 features.\n",
      "Fitting estimator with 59 features.\n",
      "Fitting estimator with 58 features.\n",
      "Fitting estimator with 57 features.\n",
      "Fitting estimator with 56 features.\n",
      "Fitting estimator with 55 features.\n",
      "Fitting estimator with 54 features.\n",
      "Fitting estimator with 53 features.\n",
      "Fitting estimator with 52 features.\n",
      "Fitting estimator with 51 features.\n",
      "Fitting estimator with 50 features.\n",
      "Fitting estimator with 49 features.\n",
      "Fitting estimator with 48 features.\n",
      "Fitting estimator with 47 features.\n",
      "Fitting estimator with 46 features.\n",
      "Fitting estimator with 45 features.\n",
      "Fitting estimator with 44 features.\n",
      "Fitting estimator with 43 features.\n",
      "Fitting estimator with 42 features.\n",
      "Fitting estimator with 41 features.\n",
      "Fitting estimator with 40 features.\n",
      "Fitting estimator with 39 features.\n",
      "Fitting estimator with 38 features.\n",
      "Fitting estimator with 37 features.\n",
      "Fitting estimator with 36 features.\n",
      "Fitting estimator with 35 features.\n",
      "Fitting estimator with 34 features.\n",
      "Fitting estimator with 33 features.\n",
      "Fitting estimator with 32 features.\n",
      "Fitting estimator with 31 features.\n",
      "Fitting estimator with 30 features.\n",
      "Fitting estimator with 29 features.\n",
      "Fitting estimator with 28 features.\n",
      "Fitting estimator with 27 features.\n",
      "Fitting estimator with 26 features.\n",
      "Fitting estimator with 25 features.\n",
      "Fitting estimator with 24 features.\n",
      "Fitting estimator with 23 features.\n",
      "Fitting estimator with 22 features.\n",
      "Fitting estimator with 21 features.\n",
      "Fitting estimator with 20 features.\n",
      "Fitting estimator with 19 features.\n",
      "Fitting estimator with 18 features.\n",
      "Fitting estimator with 17 features.\n",
      "Fitting estimator with 16 features.\n",
      "Fitting estimator with 15 features.\n",
      "Fitting estimator with 14 features.\n",
      "Fitting estimator with 13 features.\n",
      "Fitting estimator with 12 features.\n"
     ]
    },
    {
     "data": {
      "text/plain": [
       "array([0.68650794, 0.67857143, 0.6547619 ])"
      ]
     },
     "execution_count": 61,
     "metadata": {},
     "output_type": "execute_result"
    }
   ],
   "source": [
    "cross_val_score(rfe_lr, X_train_scaled, y_train, cv=3)"
   ]
  },
  {
   "cell_type": "code",
   "execution_count": 62,
   "metadata": {},
   "outputs": [],
   "source": [
    "selected_rfe = X_train_scaled.columns[rfe_lr.support_]\n",
    "removed_rfe = X_train_scaled.columns[~rfe_lr.support_]"
   ]
  },
  {
   "cell_type": "code",
   "execution_count": 63,
   "metadata": {},
   "outputs": [],
   "source": [
    "#instantiate a logistic regression object\n",
    "lr_rfe = LogisticRegression(class_weight = 'balanced')\n",
    "\n",
    "#fit the linear regression to the data\n",
    "lr_rfe = lr_rfe.fit(X_train_scaled[selected_rfe], y_train)\n",
    "\n",
    "#Use the model to predict on the training and test set\n",
    "y_rfe = lr_rfe.predict(X_train_scaled[selected_rfe])"
   ]
  },
  {
   "cell_type": "code",
   "execution_count": 64,
   "metadata": {},
   "outputs": [],
   "source": [
    "y_train_pred_rfe = lr_rfe.predict(X_train_scaled[selected_rfe])\n",
    "y_pred_rfe = lr_rfe.predict(X_test_scaled[selected_rfe])"
   ]
  },
  {
   "cell_type": "code",
   "execution_count": 65,
   "metadata": {},
   "outputs": [
    {
     "name": "stdout",
     "output_type": "stream",
     "text": [
      "Training Accuracy:\t0.6759 \tTesting Accuracy:\t0.5864\n",
      "Training Precision:\t0.6453 \tTesting Precision:\t0.5535\n",
      "Training Recall:\t0.6619 \tTesting Recall:\t\t0.5828\n",
      "Training F1:\t\t0.6535 \tTesting F1:\t\t0.5677\n"
     ]
    }
   ],
   "source": [
    "metrics_score(y_train_pred_rfe, y_train, y_pred_rfe, y_test)"
   ]
  },
  {
   "cell_type": "code",
   "execution_count": 66,
   "metadata": {},
   "outputs": [
    {
     "data": {
      "text/html": [
       "<div>\n",
       "<style scoped>\n",
       "    .dataframe tbody tr th:only-of-type {\n",
       "        vertical-align: middle;\n",
       "    }\n",
       "\n",
       "    .dataframe tbody tr th {\n",
       "        vertical-align: top;\n",
       "    }\n",
       "\n",
       "    .dataframe thead th {\n",
       "        text-align: right;\n",
       "    }\n",
       "</style>\n",
       "<table border=\"1\" class=\"dataframe\">\n",
       "  <thead>\n",
       "    <tr style=\"text-align: right;\">\n",
       "      <th></th>\n",
       "      <th>Model</th>\n",
       "      <th>Accuracy</th>\n",
       "      <th>Precision</th>\n",
       "      <th>Recall</th>\n",
       "      <th>F1 Score</th>\n",
       "    </tr>\n",
       "  </thead>\n",
       "  <tbody>\n",
       "    <tr>\n",
       "      <th>0</th>\n",
       "      <td>LR_RFE Model</td>\n",
       "      <td>0.58642</td>\n",
       "      <td>0.553459</td>\n",
       "      <td>0.582781</td>\n",
       "      <td>0.567742</td>\n",
       "    </tr>\n",
       "  </tbody>\n",
       "</table>\n",
       "</div>"
      ],
      "text/plain": [
       "          Model  Accuracy  Precision    Recall  F1 Score\n",
       "0  LR_RFE Model   0.58642   0.553459  0.582781  0.567742"
      ]
     },
     "execution_count": 66,
     "metadata": {},
     "output_type": "execute_result"
    }
   ],
   "source": [
    "acc_rfe = accuracy_score(y_test, y_pred_rfe)\n",
    "prec_rfe = precision_score(y_test, y_pred_rfe)\n",
    "rec_rfe = recall_score(y_test, y_pred_rfe)\n",
    "f1_rfe = f1_score(y_test, y_pred_rfe)\n",
    "\n",
    "results = pd.DataFrame([['LR_RFE Model', acc_rfe, prec_rfe, rec_rfe, f1_rfe]],\n",
    "               columns = ['Model', 'Accuracy', 'Precision', 'Recall', 'F1 Score'])\n",
    "# results = results.append(rfe_model, ignore_index = True)\n",
    "results"
   ]
  },
  {
   "cell_type": "code",
   "execution_count": 67,
   "metadata": {},
   "outputs": [
    {
     "data": {
      "image/png": "[encoded data removed]",
      "text/plain": [
       "<Figure size 432x288 with 2 Axes>"
      ]
     },
     "metadata": {
      "needs_background": "light"
     },
     "output_type": "display_data"
    }
   ],
   "source": [
    "fig, ax = plt.subplots()\n",
    "\n",
    "fig.suptitle(\"RFECV Model\")\n",
    "\n",
    "plot_confusion_matrix(rfe_lr, X_test_scaled, y_test, ax=ax, cmap=\"plasma\");"
   ]
  },
  {
   "cell_type": "code",
   "execution_count": 68,
   "metadata": {},
   "outputs": [],
   "source": [
    "classifiers = [LogisticRegression(random_state=2021, penalty='none', max_iter = 500), \n",
    "              RandomForestClassifier(max_depth = 5, n_estimators = 100),\n",
    "              DecisionTreeClassifier(max_depth = 5)]"
   ]
  },
  {
   "cell_type": "markdown",
   "metadata": {},
   "source": [
    "## Logistic, Random Forest , Decision tree Grid search"
   ]
  },
  {
   "cell_type": "code",
   "execution_count": 69,
   "metadata": {},
   "outputs": [],
   "source": [
    "names = ['Logistic Regression', 'Random Forest', 'Decision Tree']\n"
   ]
  },
  {
   "cell_type": "code",
   "execution_count": 70,
   "metadata": {},
   "outputs": [],
   "source": [
    "scores = []\n",
    "for name, clf in zip(names, classifiers):\n",
    "    clf.fit(X_train, y_train)\n",
    "    score = clf.score(X_test, y_test)\n",
    "    scores.append(score)"
   ]
  },
  {
   "cell_type": "code",
   "execution_count": 71,
   "metadata": {},
   "outputs": [
    {
     "data": {
      "text/plain": [
       "[0.6450617283950617, 0.5987654320987654, 0.5462962962962963]"
      ]
     },
     "execution_count": 71,
     "metadata": {},
     "output_type": "execute_result"
    }
   ],
   "source": [
    "scores"
   ]
  },
  {
   "cell_type": "code",
   "execution_count": 72,
   "metadata": {},
   "outputs": [],
   "source": [
    "param_grid = { \n",
    "    'n_estimators': [100, 250],\n",
    "    \"min_samples_leaf\": [5, 10, 15],\n",
    "    'max_leaf_nodes':[20, 35, 50],\n",
    "}"
   ]
  },
  {
   "cell_type": "code",
   "execution_count": 73,
   "metadata": {},
   "outputs": [],
   "source": [
    "grid_tree=GridSearchCV(RandomForestClassifier(), param_grid, cv=5, scoring='accuracy', verbose=1, n_jobs=-1)\n"
   ]
  },
  {
   "cell_type": "code",
   "execution_count": 74,
   "metadata": {},
   "outputs": [
    {
     "name": "stdout",
     "output_type": "stream",
     "text": [
      "Fitting 5 folds for each of 18 candidates, totalling 90 fits\n"
     ]
    },
    {
     "name": "stderr",
     "output_type": "stream",
     "text": [
      "[Parallel(n_jobs=-1)]: Using backend LokyBackend with 12 concurrent workers.\n",
      "[Parallel(n_jobs=-1)]: Done  26 tasks      | elapsed:    1.8s\n",
      "[Parallel(n_jobs=-1)]: Done  90 out of  90 | elapsed:    4.6s finished\n"
     ]
    },
    {
     "data": {
      "text/plain": [
       "GridSearchCV(cv=5, estimator=RandomForestClassifier(), n_jobs=-1,\n",
       "             param_grid={'max_leaf_nodes': [20, 35, 50],\n",
       "                         'min_samples_leaf': [5, 10, 15],\n",
       "                         'n_estimators': [100, 250]},\n",
       "             scoring='accuracy', verbose=1)"
      ]
     },
     "execution_count": 74,
     "metadata": {},
     "output_type": "execute_result"
    }
   ],
   "source": [
    "grid_tree.fit(X_train, y_train)\n"
   ]
  },
  {
   "cell_type": "code",
   "execution_count": 75,
   "metadata": {},
   "outputs": [
    {
     "name": "stdout",
     "output_type": "stream",
     "text": [
      "0.6587574067619378\n",
      "{'max_leaf_nodes': 50, 'min_samples_leaf': 15, 'n_estimators': 250}\n",
      "RandomForestClassifier(max_leaf_nodes=50, min_samples_leaf=15, n_estimators=250)\n"
     ]
    }
   ],
   "source": [
    "# Single best score achieved across all params (min_samples_split)\n",
    "print(grid_tree.best_score_)\n",
    "\n",
    "# Dictionary containing the parameters (min_samples_split) used to generate that score\n",
    "print(grid_tree.best_params_)\n",
    "\n",
    "# Actual model object fit with those best parameters\n",
    "# Shows default parameters that we did not specify\n",
    "print(grid_tree.best_estimator_)\n",
    "#Identify the best score during fitting with cross-validation"
   ]
  },
  {
   "cell_type": "code",
   "execution_count": 76,
   "metadata": {},
   "outputs": [],
   "source": [
    "param_grid = { \n",
    "    'criterion': ['gini', 'entropy'],\n",
    "    'max_depth': [2, 4, 6, 8, 10, 12, 14, 16, 18, 20, None],\n",
    "    'max_features': ['auto', None, 25, 100],\n",
    "    'class_weight': [None, 'balanced']\n",
    "}"
   ]
  },
  {
   "cell_type": "code",
   "execution_count": 77,
   "metadata": {},
   "outputs": [],
   "source": [
    "grid_tree=GridSearchCV(DecisionTreeClassifier(), param_grid, cv=5, scoring='accuracy', verbose=1, n_jobs=-1)\n"
   ]
  },
  {
   "cell_type": "code",
   "execution_count": 78,
   "metadata": {},
   "outputs": [
    {
     "name": "stdout",
     "output_type": "stream",
     "text": [
      "Fitting 5 folds for each of 176 candidates, totalling 880 fits\n"
     ]
    },
    {
     "name": "stderr",
     "output_type": "stream",
     "text": [
      "[Parallel(n_jobs=-1)]: Using backend LokyBackend with 12 concurrent workers.\n",
      "[Parallel(n_jobs=-1)]: Done  28 tasks      | elapsed:    0.1s\n",
      "[Parallel(n_jobs=-1)]: Done 800 tasks      | elapsed:    1.0s\n",
      "[Parallel(n_jobs=-1)]: Done 880 out of 880 | elapsed:    1.2s finished\n"
     ]
    },
    {
     "data": {
      "text/plain": [
       "GridSearchCV(cv=5, estimator=DecisionTreeClassifier(), n_jobs=-1,\n",
       "             param_grid={'class_weight': [None, 'balanced'],\n",
       "                         'criterion': ['gini', 'entropy'],\n",
       "                         'max_depth': [2, 4, 6, 8, 10, 12, 14, 16, 18, 20,\n",
       "                                       None],\n",
       "                         'max_features': ['auto', None, 25, 100]},\n",
       "             scoring='accuracy', verbose=1)"
      ]
     },
     "execution_count": 78,
     "metadata": {},
     "output_type": "execute_result"
    }
   ],
   "source": [
    "grid_tree.fit(X_train, y_train)\n"
   ]
  },
  {
   "cell_type": "code",
   "execution_count": 79,
   "metadata": {},
   "outputs": [
    {
     "name": "stdout",
     "output_type": "stream",
     "text": [
      "0.5978476821192052\n",
      "{'class_weight': 'balanced', 'criterion': 'entropy', 'max_depth': 16, 'max_features': 'auto'}\n",
      "DecisionTreeClassifier(class_weight='balanced', criterion='entropy',\n",
      "                       max_depth=16, max_features='auto')\n"
     ]
    }
   ],
   "source": [
    "# Single best score achieved across all params (min_samples_split)\n",
    "print(grid_tree.best_score_)\n",
    "\n",
    "# Dictionary containing the parameters (min_samples_split) used to generate that score\n",
    "print(grid_tree.best_params_)\n",
    "\n",
    "# Actual model object fit with those best parameters\n",
    "# Shows default parameters that we did not specify\n",
    "print(grid_tree.best_estimator_)\n",
    "#Identify the best score during fitting with cross-validation\n"
   ]
  },
  {
   "cell_type": "code",
   "execution_count": 80,
   "metadata": {},
   "outputs": [],
   "source": [
    "import xgboost"
   ]
  },
  {
   "cell_type": "code",
   "execution_count": 81,
   "metadata": {},
   "outputs": [],
   "source": [
    "param_grid = { \n",
    "    'n_estimators': [10, 50, 100],\n",
    "    'max_depth': [5, 10, None],\n",
    "    'booster': ['gbtree', 'gblinear', 'dart']\n",
    "}\n"
   ]
  },
  {
   "cell_type": "code",
   "execution_count": 82,
   "metadata": {},
   "outputs": [],
   "source": [
    "grid_tree=GridSearchCV(xgboost.XGBClassifier(objective='binary:logistic'), param_grid, cv=5, scoring='accuracy', verbose=1, n_jobs=-1)"
   ]
  },
  {
   "cell_type": "code",
   "execution_count": 83,
   "metadata": {},
   "outputs": [
    {
     "name": "stderr",
     "output_type": "stream",
     "text": [
      "[Parallel(n_jobs=-1)]: Using backend LokyBackend with 12 concurrent workers.\n"
     ]
    },
    {
     "name": "stdout",
     "output_type": "stream",
     "text": [
      "Fitting 5 folds for each of 27 candidates, totalling 135 fits\n"
     ]
    },
    {
     "name": "stderr",
     "output_type": "stream",
     "text": [
      "[Parallel(n_jobs=-1)]: Done  26 tasks      | elapsed:    1.8s\n",
      "[Parallel(n_jobs=-1)]: Done 112 out of 135 | elapsed:    3.4s remaining:    0.7s\n",
      "[Parallel(n_jobs=-1)]: Done 135 out of 135 | elapsed:    4.5s finished\n"
     ]
    },
    {
     "data": {
      "text/plain": [
       "GridSearchCV(cv=5,\n",
       "             estimator=XGBClassifier(base_score=None, booster=None,\n",
       "                                     colsample_bylevel=None,\n",
       "                                     colsample_bynode=None,\n",
       "                                     colsample_bytree=None, gamma=None,\n",
       "                                     gpu_id=None, importance_type='gain',\n",
       "                                     interaction_constraints=None,\n",
       "                                     learning_rate=None, max_delta_step=None,\n",
       "                                     max_depth=None, min_child_weight=None,\n",
       "                                     missing=nan, monotone_constraints=None,\n",
       "                                     n_estimators=100, n_jobs=None,\n",
       "                                     num_parallel_tree=None, random_state=None,\n",
       "                                     reg_alpha=None, reg_lambda=None,\n",
       "                                     scale_pos_weight=None, subsample=None,\n",
       "                                     tree_method=None, validate_parameters=None,\n",
       "                                     verbosity=None),\n",
       "             n_jobs=-1,\n",
       "             param_grid={'booster': ['gbtree', 'gblinear', 'dart'],\n",
       "                         'max_depth': [5, 10, None],\n",
       "                         'n_estimators': [10, 50, 100]},\n",
       "             scoring='accuracy', verbose=1)"
      ]
     },
     "execution_count": 83,
     "metadata": {},
     "output_type": "execute_result"
    }
   ],
   "source": [
    "grid_tree.fit(X_train, y_train)\n"
   ]
  },
  {
   "cell_type": "code",
   "execution_count": 84,
   "metadata": {},
   "outputs": [
    {
     "name": "stdout",
     "output_type": "stream",
     "text": [
      "0.6084437086092714\n",
      "{'booster': 'gbtree', 'max_depth': 10, 'n_estimators': 100}\n",
      "XGBClassifier(base_score=0.5, booster='gbtree', colsample_bylevel=1,\n",
      "              colsample_bynode=1, colsample_bytree=1, gamma=0, gpu_id=-1,\n",
      "              importance_type='gain', interaction_constraints='',\n",
      "              learning_rate=0.300000012, max_delta_step=0, max_depth=10,\n",
      "              min_child_weight=1, missing=nan, monotone_constraints='()',\n",
      "              n_estimators=100, n_jobs=0, num_parallel_tree=1, random_state=0,\n",
      "              reg_alpha=0, reg_lambda=1, scale_pos_weight=1, subsample=1,\n",
      "              tree_method='exact', validate_parameters=1, verbosity=None)\n"
     ]
    }
   ],
   "source": [
    "# Single best score achieved across all params (min_samples_split)\n",
    "print(grid_tree.best_score_)\n",
    "\n",
    "# Dictionary containing the parameters (min_samples_split) used to generate that score\n",
    "print(grid_tree.best_params_)\n",
    "\n",
    "# Actual model object fit with those best parameters\n",
    "# Shows default parameters that we did not specify\n",
    "print(grid_tree.best_estimator_)\n",
    "#Identify the best score during fitting with cross-validation"
   ]
  },
  {
   "cell_type": "code",
   "execution_count": 125,
   "metadata": {},
   "outputs": [],
   "source": [
    "B_Model = RandomForestClassifier(max_leaf_nodes=50, min_samples_leaf=15, n_estimators=250)"
   ]
  },
  {
   "cell_type": "code",
   "execution_count": 126,
   "metadata": {},
   "outputs": [
    {
     "data": {
      "text/plain": [
       "RandomForestClassifier(max_leaf_nodes=50, min_samples_leaf=15, n_estimators=250)"
      ]
     },
     "execution_count": 126,
     "metadata": {},
     "output_type": "execute_result"
    }
   ],
   "source": [
    "B_Model.fit(X_train, y_train)"
   ]
  },
  {
   "cell_type": "code",
   "execution_count": 128,
   "metadata": {},
   "outputs": [
    {
     "data": {
      "image/png": "[encoded data removed]",
      "text/plain": [
       "<Figure size 432x288 with 2 Axes>"
      ]
     },
     "metadata": {
      "needs_background": "light"
     },
     "output_type": "display_data"
    }
   ],
   "source": [
    "#confusion matrix for test data\n",
    "fig, ax = plt.subplots()\n",
    "\n",
    "fig.suptitle(\"RandomForest Model after grid search\")\n",
    "\n",
    "plot_confusion_matrix(B_Model, X_test, y_test, ax=ax, cmap=\"plasma\");"
   ]
  },
  {
   "cell_type": "code",
   "execution_count": 129,
   "metadata": {},
   "outputs": [
    {
     "data": {
      "text/plain": [
       "0.6141975308641975"
      ]
     },
     "execution_count": 129,
     "metadata": {},
     "output_type": "execute_result"
    }
   ],
   "source": [
    "#accuracy\n",
    "accuracy_score(y_test, B_Model.predict(X_test))"
   ]
  },
  {
   "cell_type": "markdown",
   "metadata": {},
   "source": [
    "## K neighbors"
   ]
  },
  {
   "cell_type": "code",
   "execution_count": 102,
   "metadata": {},
   "outputs": [],
   "source": [
    "st_x= StandardScaler()    \n",
    "X_train_kn= st_x.fit_transform(X_train)    \n",
    "X_test_kn= st_x.transform(X_test) "
   ]
  },
  {
   "cell_type": "code",
   "execution_count": 103,
   "metadata": {},
   "outputs": [
    {
     "data": {
      "text/plain": [
       "Text(0, 0.5, 'Error Rate')"
      ]
     },
     "execution_count": 103,
     "metadata": {},
     "output_type": "execute_result"
    },
    {
     "data": {
      "image/png": "[encoded data removed]",
      "text/plain": [
       "<Figure size 720x504 with 1 Axes>"
      ]
     },
     "metadata": {
      "needs_background": "light"
     },
     "output_type": "display_data"
    }
   ],
   "source": [
    "error_rates = []\n",
    "\n",
    "for a in range(1, 40):\n",
    "    k = a\n",
    "    knn = KNeighborsClassifier(n_neighbors=k)\n",
    "    knn.fit(X_train_kn, y_train)\n",
    "    preds = knn.predict(X_test_kn)\n",
    "    error_rates.append(np.mean(y_test - preds))\n",
    "\n",
    "plt.figure(figsize=(10, 7))\n",
    "plt.plot(range(1,40),error_rates,color='blue', linestyle='dashed', marker='o',\n",
    "         markerfacecolor='red', markersize=10)\n",
    "plt.title('Error Rate vs. K Value')\n",
    "plt.xlabel('K')\n",
    "plt.ylabel('Error Rate')"
   ]
  },
  {
   "cell_type": "code",
   "execution_count": 106,
   "metadata": {},
   "outputs": [],
   "source": [
    "k = \n",
    "knn = KNeighborsClassifier(n_neighbors=k)\n",
    "knn.fit(X_train_kn, y_train)\n",
    "preds = knn.predict(X_test_kn)\n",
    "x_pred = knn.predict(X_train_kn)"
   ]
  },
  {
   "cell_type": "code",
   "execution_count": 107,
   "metadata": {},
   "outputs": [
    {
     "name": "stdout",
     "output_type": "stream",
     "text": [
      "Training Accuracy:\t0.6839 \tTesting Accuracy:\t0.5679\n",
      "Training Precision:\t0.7594 \tTesting Precision:\t0.5604\n",
      "Training Recall:\t0.4613 \tTesting Recall:\t\t0.3377\n",
      "Training F1:\t\t0.574 \tTesting F1:\t\t0.4215\n"
     ]
    }
   ],
   "source": [
    "metrics_score(x_pred, y_train, preds, y_test)"
   ]
  },
  {
   "cell_type": "code",
   "execution_count": 108,
   "metadata": {},
   "outputs": [
    {
     "name": "stdout",
     "output_type": "stream",
     "text": [
      "[[133  40]\n",
      " [100  51]]\n",
      "              precision    recall  f1-score   support\n",
      "\n",
      "           0       0.57      0.77      0.66       173\n",
      "           1       0.56      0.34      0.42       151\n",
      "\n",
      "    accuracy                           0.57       324\n",
      "   macro avg       0.57      0.55      0.54       324\n",
      "weighted avg       0.57      0.57      0.55       324\n",
      "\n"
     ]
    }
   ],
   "source": [
    "from sklearn.metrics import classification_report\n",
    "\n",
    "print(confusion_matrix(y_test, preds))\n",
    "print(classification_report(y_test, preds))"
   ]
  },
  {
   "cell_type": "markdown",
   "metadata": {},
   "source": [
    "# # Pipeline"
   ]
  },
  {
   "cell_type": "code",
   "execution_count": 109,
   "metadata": {},
   "outputs": [],
   "source": [
    "rf = RandomForestClassifier()\n",
    "svc = SVC()\n",
    "logreg = LogisticRegression(max_iter=250)\n"
   ]
  },
  {
   "cell_type": "code",
   "execution_count": 110,
   "metadata": {},
   "outputs": [],
   "source": [
    "pipeline=Pipeline(steps=[\n",
    "    ('std_scaler',StandardScaler()),\n",
    "    ('VC', VotingClassifier(\n",
    "                estimators=[('randomforest', rf), ('knn', knn), ('SupportVector', svc),('logistic regression',logreg)], \n",
    "                voting='hard'))\n",
    "])"
   ]
  },
  {
   "cell_type": "code",
   "execution_count": 111,
   "metadata": {},
   "outputs": [
    {
     "data": {
      "text/plain": [
       "Pipeline(steps=[('std_scaler', StandardScaler()),\n",
       "                ('VC',\n",
       "                 VotingClassifier(estimators=[('randomforest',\n",
       "                                               RandomForestClassifier()),\n",
       "                                              ('knn',\n",
       "                                               KNeighborsClassifier(n_neighbors=6)),\n",
       "                                              ('SupportVector', SVC()),\n",
       "                                              ('logistic regression',\n",
       "                                               LogisticRegression(max_iter=250))]))])"
      ]
     },
     "execution_count": 111,
     "metadata": {},
     "output_type": "execute_result"
    }
   ],
   "source": [
    "pipeline.fit(X_train,y_train)"
   ]
  },
  {
   "cell_type": "code",
   "execution_count": 112,
   "metadata": {},
   "outputs": [],
   "source": [
    "pipe_y_pred=pipeline.predict(X_test)\n",
    "pipe_x_pred=pipeline.predict(X_train)"
   ]
  },
  {
   "cell_type": "code",
   "execution_count": 113,
   "metadata": {},
   "outputs": [
    {
     "name": "stdout",
     "output_type": "stream",
     "text": [
      "Training Accuracy:\t0.8532 \tTesting Accuracy:\t0.6265\n",
      "Training Precision:\t0.9474 \tTesting Precision:\t0.6339\n",
      "Training Recall:\t0.7221 \tTesting Recall:\t\t0.4702\n",
      "Training F1:\t\t0.8195 \tTesting F1:\t\t0.5399\n"
     ]
    }
   ],
   "source": [
    "metrics_score(pipe_x_pred, y_train,pipe_y_pred, y_test)"
   ]
  },
  {
   "cell_type": "code",
   "execution_count": 114,
   "metadata": {},
   "outputs": [],
   "source": [
    "cv_results = cross_validate(\n",
    "    estimator = pipeline,\n",
    "    X = X_train,\n",
    "    y = y_train,\n",
    "    cv = 5,\n",
    "    return_train_score = True\n",
    ")"
   ]
  },
  {
   "cell_type": "code",
   "execution_count": 115,
   "metadata": {},
   "outputs": [
    {
     "data": {
      "text/plain": [
       "array([0.86754967, 0.85619835, 0.87768595, 0.8661157 , 0.84297521])"
      ]
     },
     "execution_count": 115,
     "metadata": {},
     "output_type": "execute_result"
    }
   ],
   "source": [
    "cv_results['train_score']"
   ]
  },
  {
   "cell_type": "code",
   "execution_count": 116,
   "metadata": {},
   "outputs": [
    {
     "data": {
      "text/plain": [
       "array([0.59868421, 0.62913907, 0.58278146, 0.59602649, 0.58278146])"
      ]
     },
     "execution_count": 116,
     "metadata": {},
     "output_type": "execute_result"
    }
   ],
   "source": [
    "cv_results['test_score']"
   ]
  },
  {
   "cell_type": "markdown",
   "metadata": {},
   "source": [
    "# Logistic regression gridsearch"
   ]
  },
  {
   "cell_type": "code",
   "execution_count": 117,
   "metadata": {},
   "outputs": [],
   "source": [
    "scoring = ['neg_log_loss', 'accuracy']\n"
   ]
  },
  {
   "cell_type": "code",
   "execution_count": 118,
   "metadata": {},
   "outputs": [],
   "source": [
    "log_pipeline = Pipeline(steps=[('std_scaler',StandardScaler()),\n",
    "                      ('logisticregression', LogisticRegression(max_iter=1000))])\n",
    "\n",
    "#paramters to test with the grid search\n",
    "log_params = {'logisticregression__solver' : ['liblinear', 'lbfgs', 'newton-cg'],\n",
    "                'logisticregression__penalty': ['l1', 'l2'],\n",
    "                'logisticregression__C': [.00001, .0001, .001, .01, .05, 0.1],\n",
    "                'logisticregression__class_weight': [None] }\n",
    "\n",
    "log_cv = GridSearchCV(log_pipeline, param_grid=log_params, cv=5,scoring=scoring, refit = 'neg_log_loss',  verbose=1)"
   ]
  },
  {
   "cell_type": "code",
   "execution_count": 119,
   "metadata": {},
   "outputs": [
    {
     "data": {
      "text/plain": [
       "Pipeline(steps=[('std_scaler', StandardScaler()),\n",
       "                ('logisticregression', LogisticRegression(max_iter=1000))])"
      ]
     },
     "execution_count": 119,
     "metadata": {},
     "output_type": "execute_result"
    }
   ],
   "source": [
    "log_pipeline.fit(X_train,y_train)"
   ]
  },
  {
   "cell_type": "code",
   "execution_count": 120,
   "metadata": {},
   "outputs": [],
   "source": [
    "logpipe_y_pred=log_pipeline.predict(X_test)\n",
    "logpipe_x_pred=log_pipeline.predict(X_train)"
   ]
  },
  {
   "cell_type": "code",
   "execution_count": 121,
   "metadata": {},
   "outputs": [
    {
     "name": "stdout",
     "output_type": "stream",
     "text": [
      "Training Accuracy:\t0.7222 \tTesting Accuracy:\t0.6327\n",
      "Training Precision:\t0.7112 \tTesting Precision:\t0.6127\n",
      "Training Recall:\t0.6705 \tTesting Recall:\t\t0.5762\n",
      "Training F1:\t\t0.6903 \tTesting F1:\t\t0.5939\n"
     ]
    }
   ],
   "source": [
    "metrics_score(logpipe_x_pred, y_train,logpipe_y_pred, y_test)"
   ]
  },
  {
   "cell_type": "code",
   "execution_count": 122,
   "metadata": {},
   "outputs": [
    {
     "data": {
      "text/plain": [
       "array([0.63492063, 0.59920635, 0.62698413])"
      ]
     },
     "execution_count": 122,
     "metadata": {},
     "output_type": "execute_result"
    }
   ],
   "source": [
    "cross_val_score(log_pipeline,X_train,y_train,cv=3)"
   ]
  },
  {
   "cell_type": "code",
   "execution_count": null,
   "metadata": {},
   "outputs": [],
   "source": []
  }
 ],
 "metadata": {
  "kernelspec": {
   "display_name": "Python 3",
   "language": "python",
   "name": "python3"
  },
  "language_info": {
   "codemirror_mode": {
    "name": "ipython",
    "version": 3
   },
   "file_extension": ".py",
   "mimetype": "text/x-python",
   "name": "python",
   "nbconvert_exporter": "python",
   "pygments_lexer": "ipython3",
   "version": "3.8.5"
  }
 },
 "nbformat": 4,
 "nbformat_minor": 4
}
